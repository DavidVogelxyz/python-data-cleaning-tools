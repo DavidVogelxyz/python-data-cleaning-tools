{
 "cells": [
  {
   "cell_type": "markdown",
   "id": "7c6ffb29-0695-4976-9d75-0b64a5d23aad",
   "metadata": {},
   "source": [
    "# Remove fields based on ID column"
   ]
  },
  {
   "cell_type": "markdown",
   "id": "c6fe1750-49ae-4e38-8c83-6637672da47a",
   "metadata": {},
   "source": [
    "### Description"
   ]
  },
  {
   "cell_type": "markdown",
   "id": "9cc7e87f-8048-4888-972f-194f8c62ad09",
   "metadata": {},
   "source": [
    "- Use when only keeping a portion of the dataset contained within a template\n",
    "- Can also use for large dataset cleaning\n",
    "- Filter based on ID string contents a categorical column to keep only fields within a subset of the data in template\n",
    "- Useful when template contains subsets of data not needed in final dataset\n",
    "- Can incorporate into cleaning function when iterating through files in a directory "
   ]
  },
  {
   "cell_type": "markdown",
   "id": "35a1ff5d-3d9e-434b-aed3-4ada5a691a5d",
   "metadata": {},
   "source": [
    "## Import libraries"
   ]
  },
  {
   "cell_type": "code",
   "execution_count": 1,
   "id": "c049a331-0b8d-4cf0-9693-ddca96ccadfb",
   "metadata": {},
   "outputs": [],
   "source": [
    "import pandas as pd\n",
    "import numpy as np"
   ]
  },
  {
   "cell_type": "markdown",
   "id": "a270e7b7-f78c-40a6-a4f8-afc0f3ab5f2c",
   "metadata": {},
   "source": [
    "## Import data"
   ]
  },
  {
   "cell_type": "code",
   "execution_count": 2,
   "id": "51dfa2b5-597c-4e43-8280-d5fbde1ad63c",
   "metadata": {},
   "outputs": [],
   "source": [
    "dfa1 = pd.read_csv('remove_fields_id_raw.csv')"
   ]
  },
  {
   "cell_type": "code",
   "execution_count": 3,
   "id": "1a08067d-a13b-4403-b44f-ce2dccdf04b2",
   "metadata": {},
   "outputs": [
    {
     "data": {
      "text/html": [
       "<div>\n",
       "<style scoped>\n",
       "    .dataframe tbody tr th:only-of-type {\n",
       "        vertical-align: middle;\n",
       "    }\n",
       "\n",
       "    .dataframe tbody tr th {\n",
       "        vertical-align: top;\n",
       "    }\n",
       "\n",
       "    .dataframe thead th {\n",
       "        text-align: right;\n",
       "    }\n",
       "</style>\n",
       "<table border=\"1\" class=\"dataframe\">\n",
       "  <thead>\n",
       "    <tr style=\"text-align: right;\">\n",
       "      <th></th>\n",
       "      <th>id1</th>\n",
       "      <th>id2</th>\n",
       "      <th>id3</th>\n",
       "      <th>number</th>\n",
       "      <th>letter</th>\n",
       "    </tr>\n",
       "  </thead>\n",
       "  <tbody>\n",
       "    <tr>\n",
       "      <th>0</th>\n",
       "      <td>K1</td>\n",
       "      <td>KI1</td>\n",
       "      <td>K1</td>\n",
       "      <td>1</td>\n",
       "      <td>a</td>\n",
       "    </tr>\n",
       "    <tr>\n",
       "      <th>1</th>\n",
       "      <td>K2</td>\n",
       "      <td>KI2</td>\n",
       "      <td>IK2</td>\n",
       "      <td>2</td>\n",
       "      <td>b</td>\n",
       "    </tr>\n",
       "    <tr>\n",
       "      <th>2</th>\n",
       "      <td>K3</td>\n",
       "      <td>KI3</td>\n",
       "      <td>KSI3</td>\n",
       "      <td>3</td>\n",
       "      <td>c</td>\n",
       "    </tr>\n",
       "    <tr>\n",
       "      <th>3</th>\n",
       "      <td>P1</td>\n",
       "      <td>PQ1</td>\n",
       "      <td>P1</td>\n",
       "      <td>4</td>\n",
       "      <td>d</td>\n",
       "    </tr>\n",
       "    <tr>\n",
       "      <th>4</th>\n",
       "      <td>P2</td>\n",
       "      <td>PQ2</td>\n",
       "      <td>QP2</td>\n",
       "      <td>5</td>\n",
       "      <td>e</td>\n",
       "    </tr>\n",
       "    <tr>\n",
       "      <th>5</th>\n",
       "      <td>P3</td>\n",
       "      <td>PQ3</td>\n",
       "      <td>PSQ3</td>\n",
       "      <td>6</td>\n",
       "      <td>f</td>\n",
       "    </tr>\n",
       "    <tr>\n",
       "      <th>6</th>\n",
       "      <td>L1</td>\n",
       "      <td>LM1</td>\n",
       "      <td>L1</td>\n",
       "      <td>7</td>\n",
       "      <td>g</td>\n",
       "    </tr>\n",
       "    <tr>\n",
       "      <th>7</th>\n",
       "      <td>L2</td>\n",
       "      <td>LM2</td>\n",
       "      <td>ML2</td>\n",
       "      <td>8</td>\n",
       "      <td>h</td>\n",
       "    </tr>\n",
       "    <tr>\n",
       "      <th>8</th>\n",
       "      <td>L3</td>\n",
       "      <td>LM3</td>\n",
       "      <td>LSM3</td>\n",
       "      <td>9</td>\n",
       "      <td>i</td>\n",
       "    </tr>\n",
       "  </tbody>\n",
       "</table>\n",
       "</div>"
      ],
      "text/plain": [
       "  id1  id2   id3  number letter\n",
       "0  K1  KI1    K1       1      a\n",
       "1  K2  KI2   IK2       2      b\n",
       "2  K3  KI3  KSI3       3      c\n",
       "3  P1  PQ1    P1       4      d\n",
       "4  P2  PQ2   QP2       5      e\n",
       "5  P3  PQ3  PSQ3       6      f\n",
       "6  L1  LM1    L1       7      g\n",
       "7  L2  LM2   ML2       8      h\n",
       "8  L3  LM3  LSM3       9      i"
      ]
     },
     "execution_count": 3,
     "metadata": {},
     "output_type": "execute_result"
    }
   ],
   "source": [
    "dfa1"
   ]
  },
  {
   "cell_type": "markdown",
   "id": "8870e973-aa63-4d9d-be6d-dcad3cc24831",
   "metadata": {},
   "source": [
    "## Create a new dataframe only including the desired subset of data based on ID"
   ]
  },
  {
   "cell_type": "markdown",
   "id": "8acdb4d0-1e56-497c-a9d8-f9cc06cec72e",
   "metadata": {},
   "source": [
    "### If IDs can be distinguished by the presence of a certain letter/number:"
   ]
  },
  {
   "cell_type": "code",
   "execution_count": 4,
   "id": "35d48dd0-747d-4862-966c-2f88419951b9",
   "metadata": {},
   "outputs": [],
   "source": [
    "dfa2 = dfa1[dfa1['id1'].str.contains('P') == True]"
   ]
  },
  {
   "cell_type": "code",
   "execution_count": 5,
   "id": "514f801d-dac0-4c88-b824-8be3d777d7a4",
   "metadata": {},
   "outputs": [
    {
     "data": {
      "text/html": [
       "<div>\n",
       "<style scoped>\n",
       "    .dataframe tbody tr th:only-of-type {\n",
       "        vertical-align: middle;\n",
       "    }\n",
       "\n",
       "    .dataframe tbody tr th {\n",
       "        vertical-align: top;\n",
       "    }\n",
       "\n",
       "    .dataframe thead th {\n",
       "        text-align: right;\n",
       "    }\n",
       "</style>\n",
       "<table border=\"1\" class=\"dataframe\">\n",
       "  <thead>\n",
       "    <tr style=\"text-align: right;\">\n",
       "      <th></th>\n",
       "      <th>id1</th>\n",
       "      <th>id2</th>\n",
       "      <th>id3</th>\n",
       "      <th>number</th>\n",
       "      <th>letter</th>\n",
       "    </tr>\n",
       "  </thead>\n",
       "  <tbody>\n",
       "    <tr>\n",
       "      <th>3</th>\n",
       "      <td>P1</td>\n",
       "      <td>PQ1</td>\n",
       "      <td>P1</td>\n",
       "      <td>4</td>\n",
       "      <td>d</td>\n",
       "    </tr>\n",
       "    <tr>\n",
       "      <th>4</th>\n",
       "      <td>P2</td>\n",
       "      <td>PQ2</td>\n",
       "      <td>QP2</td>\n",
       "      <td>5</td>\n",
       "      <td>e</td>\n",
       "    </tr>\n",
       "    <tr>\n",
       "      <th>5</th>\n",
       "      <td>P3</td>\n",
       "      <td>PQ3</td>\n",
       "      <td>PSQ3</td>\n",
       "      <td>6</td>\n",
       "      <td>f</td>\n",
       "    </tr>\n",
       "  </tbody>\n",
       "</table>\n",
       "</div>"
      ],
      "text/plain": [
       "  id1  id2   id3  number letter\n",
       "3  P1  PQ1    P1       4      d\n",
       "4  P2  PQ2   QP2       5      e\n",
       "5  P3  PQ3  PSQ3       6      f"
      ]
     },
     "execution_count": 5,
     "metadata": {},
     "output_type": "execute_result"
    }
   ],
   "source": [
    "dfa2"
   ]
  },
  {
   "cell_type": "markdown",
   "id": "c1209292-21b3-4f39-94ad-395c7bfbee5f",
   "metadata": {},
   "source": [
    "### If IDs can be distinguished by the presence of a combination of letters/numbers, always in same order:"
   ]
  },
  {
   "cell_type": "code",
   "execution_count": 6,
   "id": "b2fa5434-4bf7-4a77-a2e5-3997e960cce2",
   "metadata": {},
   "outputs": [],
   "source": [
    "dfa3 = dfa1[dfa1['id2'].str.contains('PQ') == True]"
   ]
  },
  {
   "cell_type": "code",
   "execution_count": 7,
   "id": "f2bd04f5-7003-4d95-bf77-9254af88da3d",
   "metadata": {},
   "outputs": [
    {
     "data": {
      "text/html": [
       "<div>\n",
       "<style scoped>\n",
       "    .dataframe tbody tr th:only-of-type {\n",
       "        vertical-align: middle;\n",
       "    }\n",
       "\n",
       "    .dataframe tbody tr th {\n",
       "        vertical-align: top;\n",
       "    }\n",
       "\n",
       "    .dataframe thead th {\n",
       "        text-align: right;\n",
       "    }\n",
       "</style>\n",
       "<table border=\"1\" class=\"dataframe\">\n",
       "  <thead>\n",
       "    <tr style=\"text-align: right;\">\n",
       "      <th></th>\n",
       "      <th>id1</th>\n",
       "      <th>id2</th>\n",
       "      <th>id3</th>\n",
       "      <th>number</th>\n",
       "      <th>letter</th>\n",
       "    </tr>\n",
       "  </thead>\n",
       "  <tbody>\n",
       "    <tr>\n",
       "      <th>3</th>\n",
       "      <td>P1</td>\n",
       "      <td>PQ1</td>\n",
       "      <td>P1</td>\n",
       "      <td>4</td>\n",
       "      <td>d</td>\n",
       "    </tr>\n",
       "    <tr>\n",
       "      <th>4</th>\n",
       "      <td>P2</td>\n",
       "      <td>PQ2</td>\n",
       "      <td>QP2</td>\n",
       "      <td>5</td>\n",
       "      <td>e</td>\n",
       "    </tr>\n",
       "    <tr>\n",
       "      <th>5</th>\n",
       "      <td>P3</td>\n",
       "      <td>PQ3</td>\n",
       "      <td>PSQ3</td>\n",
       "      <td>6</td>\n",
       "      <td>f</td>\n",
       "    </tr>\n",
       "  </tbody>\n",
       "</table>\n",
       "</div>"
      ],
      "text/plain": [
       "  id1  id2   id3  number letter\n",
       "3  P1  PQ1    P1       4      d\n",
       "4  P2  PQ2   QP2       5      e\n",
       "5  P3  PQ3  PSQ3       6      f"
      ]
     },
     "execution_count": 7,
     "metadata": {},
     "output_type": "execute_result"
    }
   ],
   "source": [
    "dfa3"
   ]
  },
  {
   "cell_type": "markdown",
   "id": "8a722cae-d1f1-49bb-90f0-5f7d913ccb30",
   "metadata": {},
   "source": [
    "### If IDs can be distinguished by the presence of one letter OR another, NOT always in same order:"
   ]
  },
  {
   "cell_type": "code",
   "execution_count": 8,
   "id": "17745c50-f632-406c-bed4-ea553c5eae86",
   "metadata": {},
   "outputs": [],
   "source": [
    "# This searches the strings using regex (| = OR)\n",
    "dfa4 = dfa1[dfa1['id3'].str.contains('P|Q') == True]"
   ]
  },
  {
   "cell_type": "code",
   "execution_count": 9,
   "id": "9121ddba-fa59-4719-858c-438df3719668",
   "metadata": {},
   "outputs": [
    {
     "data": {
      "text/html": [
       "<div>\n",
       "<style scoped>\n",
       "    .dataframe tbody tr th:only-of-type {\n",
       "        vertical-align: middle;\n",
       "    }\n",
       "\n",
       "    .dataframe tbody tr th {\n",
       "        vertical-align: top;\n",
       "    }\n",
       "\n",
       "    .dataframe thead th {\n",
       "        text-align: right;\n",
       "    }\n",
       "</style>\n",
       "<table border=\"1\" class=\"dataframe\">\n",
       "  <thead>\n",
       "    <tr style=\"text-align: right;\">\n",
       "      <th></th>\n",
       "      <th>id1</th>\n",
       "      <th>id2</th>\n",
       "      <th>id3</th>\n",
       "      <th>number</th>\n",
       "      <th>letter</th>\n",
       "    </tr>\n",
       "  </thead>\n",
       "  <tbody>\n",
       "    <tr>\n",
       "      <th>3</th>\n",
       "      <td>P1</td>\n",
       "      <td>PQ1</td>\n",
       "      <td>P1</td>\n",
       "      <td>4</td>\n",
       "      <td>d</td>\n",
       "    </tr>\n",
       "    <tr>\n",
       "      <th>4</th>\n",
       "      <td>P2</td>\n",
       "      <td>PQ2</td>\n",
       "      <td>QP2</td>\n",
       "      <td>5</td>\n",
       "      <td>e</td>\n",
       "    </tr>\n",
       "    <tr>\n",
       "      <th>5</th>\n",
       "      <td>P3</td>\n",
       "      <td>PQ3</td>\n",
       "      <td>PSQ3</td>\n",
       "      <td>6</td>\n",
       "      <td>f</td>\n",
       "    </tr>\n",
       "  </tbody>\n",
       "</table>\n",
       "</div>"
      ],
      "text/plain": [
       "  id1  id2   id3  number letter\n",
       "3  P1  PQ1    P1       4      d\n",
       "4  P2  PQ2   QP2       5      e\n",
       "5  P3  PQ3  PSQ3       6      f"
      ]
     },
     "execution_count": 9,
     "metadata": {},
     "output_type": "execute_result"
    }
   ],
   "source": [
    "dfa4"
   ]
  },
  {
   "cell_type": "markdown",
   "id": "1c6edf30-4117-4b68-a36c-d999546092b5",
   "metadata": {},
   "source": [
    "### To keep all fields *except* the ones that contain either of those letters:"
   ]
  },
  {
   "cell_type": "code",
   "execution_count": 10,
   "id": "376ff7a8-25cd-49c9-af23-132f5f7484ca",
   "metadata": {},
   "outputs": [],
   "source": [
    "dfa5 = dfa1[~dfa1['id3'].str.contains('P|Q') == True]"
   ]
  },
  {
   "cell_type": "code",
   "execution_count": 11,
   "id": "3d34f49c-4114-43ed-b425-e5bbd47c426b",
   "metadata": {},
   "outputs": [
    {
     "data": {
      "text/html": [
       "<div>\n",
       "<style scoped>\n",
       "    .dataframe tbody tr th:only-of-type {\n",
       "        vertical-align: middle;\n",
       "    }\n",
       "\n",
       "    .dataframe tbody tr th {\n",
       "        vertical-align: top;\n",
       "    }\n",
       "\n",
       "    .dataframe thead th {\n",
       "        text-align: right;\n",
       "    }\n",
       "</style>\n",
       "<table border=\"1\" class=\"dataframe\">\n",
       "  <thead>\n",
       "    <tr style=\"text-align: right;\">\n",
       "      <th></th>\n",
       "      <th>id1</th>\n",
       "      <th>id2</th>\n",
       "      <th>id3</th>\n",
       "      <th>number</th>\n",
       "      <th>letter</th>\n",
       "    </tr>\n",
       "  </thead>\n",
       "  <tbody>\n",
       "    <tr>\n",
       "      <th>0</th>\n",
       "      <td>K1</td>\n",
       "      <td>KI1</td>\n",
       "      <td>K1</td>\n",
       "      <td>1</td>\n",
       "      <td>a</td>\n",
       "    </tr>\n",
       "    <tr>\n",
       "      <th>1</th>\n",
       "      <td>K2</td>\n",
       "      <td>KI2</td>\n",
       "      <td>IK2</td>\n",
       "      <td>2</td>\n",
       "      <td>b</td>\n",
       "    </tr>\n",
       "    <tr>\n",
       "      <th>2</th>\n",
       "      <td>K3</td>\n",
       "      <td>KI3</td>\n",
       "      <td>KSI3</td>\n",
       "      <td>3</td>\n",
       "      <td>c</td>\n",
       "    </tr>\n",
       "    <tr>\n",
       "      <th>6</th>\n",
       "      <td>L1</td>\n",
       "      <td>LM1</td>\n",
       "      <td>L1</td>\n",
       "      <td>7</td>\n",
       "      <td>g</td>\n",
       "    </tr>\n",
       "    <tr>\n",
       "      <th>7</th>\n",
       "      <td>L2</td>\n",
       "      <td>LM2</td>\n",
       "      <td>ML2</td>\n",
       "      <td>8</td>\n",
       "      <td>h</td>\n",
       "    </tr>\n",
       "    <tr>\n",
       "      <th>8</th>\n",
       "      <td>L3</td>\n",
       "      <td>LM3</td>\n",
       "      <td>LSM3</td>\n",
       "      <td>9</td>\n",
       "      <td>i</td>\n",
       "    </tr>\n",
       "  </tbody>\n",
       "</table>\n",
       "</div>"
      ],
      "text/plain": [
       "  id1  id2   id3  number letter\n",
       "0  K1  KI1    K1       1      a\n",
       "1  K2  KI2   IK2       2      b\n",
       "2  K3  KI3  KSI3       3      c\n",
       "6  L1  LM1    L1       7      g\n",
       "7  L2  LM2   ML2       8      h\n",
       "8  L3  LM3  LSM3       9      i"
      ]
     },
     "execution_count": 11,
     "metadata": {},
     "output_type": "execute_result"
    }
   ],
   "source": [
    "dfa5"
   ]
  },
  {
   "cell_type": "markdown",
   "id": "129de6b0-06a8-4fe2-b568-1d3c21fac149",
   "metadata": {},
   "source": [
    "### If IDs can be distinguished by the presence of one letter AND another, NOT always in same order:"
   ]
  },
  {
   "cell_type": "code",
   "execution_count": 12,
   "id": "3395255c-3167-43c7-a3af-328f21aefc38",
   "metadata": {},
   "outputs": [],
   "source": [
    "# This searches the strings using regex (| = OR, .* indicates there may be characters between those listed)\n",
    "dfa6 = dfa1[dfa1['id3'].str.contains('P.*Q|Q.*P') == True]"
   ]
  },
  {
   "cell_type": "code",
   "execution_count": 13,
   "id": "68964369-73ae-40c7-b1ee-262f24c31822",
   "metadata": {},
   "outputs": [
    {
     "data": {
      "text/html": [
       "<div>\n",
       "<style scoped>\n",
       "    .dataframe tbody tr th:only-of-type {\n",
       "        vertical-align: middle;\n",
       "    }\n",
       "\n",
       "    .dataframe tbody tr th {\n",
       "        vertical-align: top;\n",
       "    }\n",
       "\n",
       "    .dataframe thead th {\n",
       "        text-align: right;\n",
       "    }\n",
       "</style>\n",
       "<table border=\"1\" class=\"dataframe\">\n",
       "  <thead>\n",
       "    <tr style=\"text-align: right;\">\n",
       "      <th></th>\n",
       "      <th>id1</th>\n",
       "      <th>id2</th>\n",
       "      <th>id3</th>\n",
       "      <th>number</th>\n",
       "      <th>letter</th>\n",
       "    </tr>\n",
       "  </thead>\n",
       "  <tbody>\n",
       "    <tr>\n",
       "      <th>4</th>\n",
       "      <td>P2</td>\n",
       "      <td>PQ2</td>\n",
       "      <td>QP2</td>\n",
       "      <td>5</td>\n",
       "      <td>e</td>\n",
       "    </tr>\n",
       "    <tr>\n",
       "      <th>5</th>\n",
       "      <td>P3</td>\n",
       "      <td>PQ3</td>\n",
       "      <td>PSQ3</td>\n",
       "      <td>6</td>\n",
       "      <td>f</td>\n",
       "    </tr>\n",
       "  </tbody>\n",
       "</table>\n",
       "</div>"
      ],
      "text/plain": [
       "  id1  id2   id3  number letter\n",
       "4  P2  PQ2   QP2       5      e\n",
       "5  P3  PQ3  PSQ3       6      f"
      ]
     },
     "execution_count": 13,
     "metadata": {},
     "output_type": "execute_result"
    }
   ],
   "source": [
    "dfa6"
   ]
  },
  {
   "cell_type": "markdown",
   "id": "008accb8-78bb-47bf-9010-c4e48ee26a48",
   "metadata": {},
   "source": [
    "## Notes for robust data filtering"
   ]
  },
  {
   "cell_type": "markdown",
   "id": "f9265e09-b36e-4e43-a64c-04fbdf3d670f",
   "metadata": {},
   "source": [
    "- Use case = False to ignore capital vs. lowercase in search\n",
    "- If nulls are present, str.contains won't work- use na = False to ignore non-string values in column\n",
    "- Can add other regex to augment filter capabilities \n",
    "- If adding regex to search, the following characters are interpreted by regex as regex characters (use re.escape() around regex to force it to interpret literally):\n",
    "- . ^ $ * + ? { } [ ] \\ | ( )\n",
    "- Can also use regex = False for above characters if not using regex at all & they should be interpreted as literal characters to search for within string"
   ]
  },
  {
   "cell_type": "markdown",
   "id": "a6f72f2f-cd52-4133-9c7b-568545663563",
   "metadata": {},
   "source": [
    "## Export data"
   ]
  },
  {
   "cell_type": "code",
   "execution_count": 14,
   "id": "0b1a6bff-8245-42ca-845a-bda9c81d5fbc",
   "metadata": {},
   "outputs": [],
   "source": [
    "dfa2.to_csv('cleaned_remove_fields_id_P_only.csv', encoding = 'utf-8', index = False, header = True)\n",
    "\n",
    "dfa3.to_csv('cleaned_remove_fields_id_PQ_only.csv', encoding = 'utf-8', index = False, header = True)\n",
    "\n",
    "dfa4.to_csv('cleaned_remove_fields_id_P_or_Q_only.csv', encoding = 'utf-8', index = False, header = True)\n",
    "\n",
    "dfa5.to_csv('cleaned_remove_fields_id_not_P_or_Q.csv', encoding = 'utf-8', index = False, header = True)\n",
    "\n",
    "dfa6.to_csv('cleaned_remove_fields_id_P_and_Q.csv', encoding = 'utf-8', index = False, header = True)"
   ]
  }
 ],
 "metadata": {
  "kernelspec": {
   "display_name": "Python 3 (ipykernel)",
   "language": "python",
   "name": "python3"
  },
  "language_info": {
   "codemirror_mode": {
    "name": "ipython",
    "version": 3
   },
   "file_extension": ".py",
   "mimetype": "text/x-python",
   "name": "python",
   "nbconvert_exporter": "python",
   "pygments_lexer": "ipython3",
   "version": "3.11.7"
  }
 },
 "nbformat": 4,
 "nbformat_minor": 5
}
