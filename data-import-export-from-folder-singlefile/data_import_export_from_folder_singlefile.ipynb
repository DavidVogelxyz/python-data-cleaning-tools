{
 "cells": [
  {
   "cell_type": "markdown",
   "id": "6de27fda-1867-480e-a32c-e054496a0f9a",
   "metadata": {},
   "source": [
    "# Import & export data from certain file path"
   ]
  },
  {
   "cell_type": "markdown",
   "id": "d6c46948-b9be-4e5b-a4fe-fc5fc4d55fdb",
   "metadata": {},
   "source": [
    "### Description"
   ]
  },
  {
   "cell_type": "markdown",
   "id": "78cf7b37-760c-4b40-b54a-068b3afe1af0",
   "metadata": {
    "jp-MarkdownHeadingCollapsed": true
   },
   "source": [
    "- Use to import a *single* file from a certain file path\n",
    "- Import, clean data in template, export\n",
    "- Useful if there is variability between templates- can't run through entire folder at once\n",
    "- Useful for file in subfolder in current working directory (cwd), file in directory one above cwd, or file in subdirectory one above cwd"
   ]
  },
  {
   "cell_type": "markdown",
   "id": "1d3baabd-5fed-46b3-82e5-aeb768a5b50a",
   "metadata": {},
   "source": [
    "## Import libraries"
   ]
  },
  {
   "cell_type": "code",
   "execution_count": 1,
   "id": "e0317db1-cfb4-4ada-a59c-5965083e9217",
   "metadata": {},
   "outputs": [],
   "source": [
    "import os\n",
    "import pandas as pd"
   ]
  },
  {
   "cell_type": "markdown",
   "id": "c0a16792-f5a8-42f5-9c00-747c9b124543",
   "metadata": {},
   "source": [
    "## Import data"
   ]
  },
  {
   "cell_type": "code",
   "execution_count": 2,
   "id": "df4680da-fd19-474a-a8f5-79b248c04961",
   "metadata": {},
   "outputs": [],
   "source": [
    "# If directory with raw data file is in subfolder in cwd\n",
    "\n",
    "df1 = pd.read_csv('sub_folder_raw/sub_file_raw.csv')\n",
    "\n",
    "# If directory with raw data file is one level above cwd\n",
    "\n",
    "file_path2 = os.path.join('..', 'parent_file_raw.csv')\n",
    "df2 = pd.read_csv(file_path2)\n",
    "\n",
    "# If directory with raw data is in directory one above cwd\n",
    "\n",
    "file_path3 = os.path.join('..', 'sister_folder_raw', 'sister_file_raw.csv')\n",
    "df3 = pd.read_csv(file_path3)"
   ]
  },
  {
   "cell_type": "code",
   "execution_count": 3,
   "id": "58020f99-2424-4248-a0c5-b4d054b85d3a",
   "metadata": {},
   "outputs": [
    {
     "data": {
      "text/html": [
       "<div>\n",
       "<style scoped>\n",
       "    .dataframe tbody tr th:only-of-type {\n",
       "        vertical-align: middle;\n",
       "    }\n",
       "\n",
       "    .dataframe tbody tr th {\n",
       "        vertical-align: top;\n",
       "    }\n",
       "\n",
       "    .dataframe thead th {\n",
       "        text-align: right;\n",
       "    }\n",
       "</style>\n",
       "<table border=\"1\" class=\"dataframe\">\n",
       "  <thead>\n",
       "    <tr style=\"text-align: right;\">\n",
       "      <th></th>\n",
       "      <th>letter</th>\n",
       "      <th>number</th>\n",
       "      <th>color</th>\n",
       "    </tr>\n",
       "  </thead>\n",
       "  <tbody>\n",
       "    <tr>\n",
       "      <th>0</th>\n",
       "      <td>a</td>\n",
       "      <td>1</td>\n",
       "      <td>red</td>\n",
       "    </tr>\n",
       "    <tr>\n",
       "      <th>1</th>\n",
       "      <td>b</td>\n",
       "      <td>2</td>\n",
       "      <td>orange</td>\n",
       "    </tr>\n",
       "    <tr>\n",
       "      <th>2</th>\n",
       "      <td>c</td>\n",
       "      <td>3</td>\n",
       "      <td>yellow</td>\n",
       "    </tr>\n",
       "    <tr>\n",
       "      <th>3</th>\n",
       "      <td>d</td>\n",
       "      <td>4</td>\n",
       "      <td>green</td>\n",
       "    </tr>\n",
       "    <tr>\n",
       "      <th>4</th>\n",
       "      <td>e</td>\n",
       "      <td>5</td>\n",
       "      <td>blue</td>\n",
       "    </tr>\n",
       "    <tr>\n",
       "      <th>5</th>\n",
       "      <td>f</td>\n",
       "      <td>6</td>\n",
       "      <td>purple</td>\n",
       "    </tr>\n",
       "  </tbody>\n",
       "</table>\n",
       "</div>"
      ],
      "text/plain": [
       "  letter  number   color\n",
       "0      a       1     red\n",
       "1      b       2  orange\n",
       "2      c       3  yellow\n",
       "3      d       4   green\n",
       "4      e       5    blue\n",
       "5      f       6  purple"
      ]
     },
     "execution_count": 3,
     "metadata": {},
     "output_type": "execute_result"
    }
   ],
   "source": [
    "df1"
   ]
  },
  {
   "cell_type": "code",
   "execution_count": 4,
   "id": "49247c4d-315a-4f62-a223-d813f592e7c1",
   "metadata": {},
   "outputs": [
    {
     "data": {
      "text/html": [
       "<div>\n",
       "<style scoped>\n",
       "    .dataframe tbody tr th:only-of-type {\n",
       "        vertical-align: middle;\n",
       "    }\n",
       "\n",
       "    .dataframe tbody tr th {\n",
       "        vertical-align: top;\n",
       "    }\n",
       "\n",
       "    .dataframe thead th {\n",
       "        text-align: right;\n",
       "    }\n",
       "</style>\n",
       "<table border=\"1\" class=\"dataframe\">\n",
       "  <thead>\n",
       "    <tr style=\"text-align: right;\">\n",
       "      <th></th>\n",
       "      <th>letter</th>\n",
       "      <th>number</th>\n",
       "      <th>color</th>\n",
       "    </tr>\n",
       "  </thead>\n",
       "  <tbody>\n",
       "    <tr>\n",
       "      <th>0</th>\n",
       "      <td>g</td>\n",
       "      <td>7</td>\n",
       "      <td>maroon</td>\n",
       "    </tr>\n",
       "    <tr>\n",
       "      <th>1</th>\n",
       "      <td>h</td>\n",
       "      <td>8</td>\n",
       "      <td>ochre</td>\n",
       "    </tr>\n",
       "    <tr>\n",
       "      <th>2</th>\n",
       "      <td>i</td>\n",
       "      <td>9</td>\n",
       "      <td>lemon</td>\n",
       "    </tr>\n",
       "    <tr>\n",
       "      <th>3</th>\n",
       "      <td>j</td>\n",
       "      <td>10</td>\n",
       "      <td>emerald</td>\n",
       "    </tr>\n",
       "    <tr>\n",
       "      <th>4</th>\n",
       "      <td>k</td>\n",
       "      <td>11</td>\n",
       "      <td>cyan</td>\n",
       "    </tr>\n",
       "    <tr>\n",
       "      <th>5</th>\n",
       "      <td>l</td>\n",
       "      <td>12</td>\n",
       "      <td>indigo</td>\n",
       "    </tr>\n",
       "  </tbody>\n",
       "</table>\n",
       "</div>"
      ],
      "text/plain": [
       "  letter  number    color\n",
       "0      g       7   maroon\n",
       "1      h       8    ochre\n",
       "2      i       9    lemon\n",
       "3      j      10  emerald\n",
       "4      k      11     cyan\n",
       "5      l      12   indigo"
      ]
     },
     "execution_count": 4,
     "metadata": {},
     "output_type": "execute_result"
    }
   ],
   "source": [
    "df2"
   ]
  },
  {
   "cell_type": "code",
   "execution_count": 5,
   "id": "4161ee5d-139d-4133-b775-73e158168572",
   "metadata": {},
   "outputs": [
    {
     "data": {
      "text/html": [
       "<div>\n",
       "<style scoped>\n",
       "    .dataframe tbody tr th:only-of-type {\n",
       "        vertical-align: middle;\n",
       "    }\n",
       "\n",
       "    .dataframe tbody tr th {\n",
       "        vertical-align: top;\n",
       "    }\n",
       "\n",
       "    .dataframe thead th {\n",
       "        text-align: right;\n",
       "    }\n",
       "</style>\n",
       "<table border=\"1\" class=\"dataframe\">\n",
       "  <thead>\n",
       "    <tr style=\"text-align: right;\">\n",
       "      <th></th>\n",
       "      <th>letter</th>\n",
       "      <th>number</th>\n",
       "      <th>color</th>\n",
       "    </tr>\n",
       "  </thead>\n",
       "  <tbody>\n",
       "    <tr>\n",
       "      <th>0</th>\n",
       "      <td>m</td>\n",
       "      <td>13</td>\n",
       "      <td>ruby</td>\n",
       "    </tr>\n",
       "    <tr>\n",
       "      <th>1</th>\n",
       "      <td>n</td>\n",
       "      <td>14</td>\n",
       "      <td>coral</td>\n",
       "    </tr>\n",
       "    <tr>\n",
       "      <th>2</th>\n",
       "      <td>o</td>\n",
       "      <td>15</td>\n",
       "      <td>dandelion</td>\n",
       "    </tr>\n",
       "    <tr>\n",
       "      <th>3</th>\n",
       "      <td>p</td>\n",
       "      <td>16</td>\n",
       "      <td>kelly</td>\n",
       "    </tr>\n",
       "    <tr>\n",
       "      <th>4</th>\n",
       "      <td>q</td>\n",
       "      <td>17</td>\n",
       "      <td>azure</td>\n",
       "    </tr>\n",
       "    <tr>\n",
       "      <th>5</th>\n",
       "      <td>r</td>\n",
       "      <td>18</td>\n",
       "      <td>violet</td>\n",
       "    </tr>\n",
       "  </tbody>\n",
       "</table>\n",
       "</div>"
      ],
      "text/plain": [
       "  letter  number      color\n",
       "0      m      13       ruby\n",
       "1      n      14      coral\n",
       "2      o      15  dandelion\n",
       "3      p      16      kelly\n",
       "4      q      17      azure\n",
       "5      r      18     violet"
      ]
     },
     "execution_count": 5,
     "metadata": {},
     "output_type": "execute_result"
    }
   ],
   "source": [
    "df3"
   ]
  },
  {
   "cell_type": "markdown",
   "id": "8263d6ff-6ff7-4df7-9935-d89a1f93b982",
   "metadata": {},
   "source": [
    "## *Clean template for export here*"
   ]
  },
  {
   "cell_type": "markdown",
   "id": "5e60fa40-a0b8-4fbb-8f9d-0ca010b9ddf4",
   "metadata": {},
   "source": [
    "## Export data"
   ]
  },
  {
   "cell_type": "code",
   "execution_count": 6,
   "id": "ab819778-366a-4be2-8136-004171c5a216",
   "metadata": {},
   "outputs": [],
   "source": [
    "# If saving to subdirectory in cwd\n",
    "\n",
    "df1.to_csv(os.path.join('sub_folder_clean', 'sub_file_clean.csv'), encoding = 'utf-8', index = False, header = True)\n",
    "\n",
    "# If saving to directory one above cwd\n",
    "\n",
    "df2.to_csv(os.path.join('..', 'parent_file_clean.csv'), encoding = 'utf-8', index = False, header = True)\n",
    "\n",
    "# If saving to subdirectory one above cwd\n",
    "\n",
    "df3.to_csv(os.path.join('..', 'sister_folder_clean', 'sister_file_clean.csv'), encoding = 'utf-8', index = False, header = True)"
   ]
  }
 ],
 "metadata": {
  "kernelspec": {
   "display_name": "Python 3 (ipykernel)",
   "language": "python",
   "name": "python3"
  },
  "language_info": {
   "codemirror_mode": {
    "name": "ipython",
    "version": 3
   },
   "file_extension": ".py",
   "mimetype": "text/x-python",
   "name": "python",
   "nbconvert_exporter": "python",
   "pygments_lexer": "ipython3",
   "version": "3.11.7"
  }
 },
 "nbformat": 4,
 "nbformat_minor": 5
}
