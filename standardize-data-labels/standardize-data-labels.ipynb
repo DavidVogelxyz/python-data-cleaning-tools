{
 "cells": [
  {
   "cell_type": "markdown",
   "id": "e7fd7c2e-9995-400c-a474-22c12d9a91c0",
   "metadata": {},
   "source": [
    "# Standardize categorical columns to be used as labels for dataset"
   ]
  },
  {
   "cell_type": "markdown",
   "id": "916cd404-f87f-41da-ba41-074492359b48",
   "metadata": {},
   "source": [
    "### Description"
   ]
  },
  {
   "cell_type": "markdown",
   "id": "b4641025-9fe1-4deb-b2e3-da6f243edd9c",
   "metadata": {},
   "source": [
    "- Use when there is variability between templates for categorical columns which should be consistent in combined dataset\n",
    "- Can also use for large dataset cleaning\n",
    "- Edit categorical column string contents to match a standard needed in the future combined dataset\n",
    "- Use fuzzy matching for user-generated spelling issues\n",
    "- Useful when templates are inconsistent in labeling\n",
    "- Can incorporate into cleaning function when iterating through files in a directory "
   ]
  },
  {
   "cell_type": "markdown",
   "id": "527fec83-37d1-41b2-84fe-424d322a63a0",
   "metadata": {},
   "source": [
    "## Import libraries"
   ]
  },
  {
   "cell_type": "code",
   "execution_count": 1,
   "id": "a233ece8-f67a-4e7b-be21-107cb717e58d",
   "metadata": {},
   "outputs": [],
   "source": [
    "import pandas as pd\n",
    "from rapidfuzz import process, fuzz"
   ]
  },
  {
   "cell_type": "markdown",
   "id": "c3b080c3-eccc-4b33-b8c6-d870db877a0c",
   "metadata": {},
   "source": [
    "## Import data"
   ]
  },
  {
   "cell_type": "code",
   "execution_count": 2,
   "id": "ed10c142-c70e-48e8-8518-242d1f222d57",
   "metadata": {},
   "outputs": [],
   "source": [
    "dfa1 = pd.read_csv('data_labels_raw.csv')"
   ]
  },
  {
   "cell_type": "code",
   "execution_count": 3,
   "id": "4c2c56a0-89d4-4379-9657-babd12217f2b",
   "metadata": {},
   "outputs": [
    {
     "data": {
      "text/html": [
       "<div>\n",
       "<style scoped>\n",
       "    .dataframe tbody tr th:only-of-type {\n",
       "        vertical-align: middle;\n",
       "    }\n",
       "\n",
       "    .dataframe tbody tr th {\n",
       "        vertical-align: top;\n",
       "    }\n",
       "\n",
       "    .dataframe thead th {\n",
       "        text-align: right;\n",
       "    }\n",
       "</style>\n",
       "<table border=\"1\" class=\"dataframe\">\n",
       "  <thead>\n",
       "    <tr style=\"text-align: right;\">\n",
       "      <th></th>\n",
       "      <th>sector</th>\n",
       "      <th>department</th>\n",
       "      <th>id</th>\n",
       "      <th>count_1</th>\n",
       "      <th>count_2</th>\n",
       "    </tr>\n",
       "  </thead>\n",
       "  <tbody>\n",
       "    <tr>\n",
       "      <th>0</th>\n",
       "      <td>finance</td>\n",
       "      <td>retirment</td>\n",
       "      <td>12.104</td>\n",
       "      <td>1412</td>\n",
       "      <td>3064</td>\n",
       "    </tr>\n",
       "    <tr>\n",
       "      <th>1</th>\n",
       "      <td>Finance</td>\n",
       "      <td>retriment_2</td>\n",
       "      <td>12.221</td>\n",
       "      <td>19662</td>\n",
       "      <td>42758</td>\n",
       "    </tr>\n",
       "    <tr>\n",
       "      <th>2</th>\n",
       "      <td>admin</td>\n",
       "      <td>Purchassing</td>\n",
       "      <td>21.632</td>\n",
       "      <td>34</td>\n",
       "      <td>72</td>\n",
       "    </tr>\n",
       "    <tr>\n",
       "      <th>3</th>\n",
       "      <td>administrative</td>\n",
       "      <td>account1</td>\n",
       "      <td>22.701</td>\n",
       "      <td>14</td>\n",
       "      <td>19</td>\n",
       "    </tr>\n",
       "    <tr>\n",
       "      <th>4</th>\n",
       "      <td>AM</td>\n",
       "      <td>account1</td>\n",
       "      <td>22.702</td>\n",
       "      <td>634</td>\n",
       "      <td>778</td>\n",
       "    </tr>\n",
       "  </tbody>\n",
       "</table>\n",
       "</div>"
      ],
      "text/plain": [
       "           sector   department      id  count_1  count_2\n",
       "0         finance    retirment  12.104     1412     3064\n",
       "1         Finance  retriment_2  12.221    19662    42758\n",
       "2           admin  Purchassing  21.632       34       72\n",
       "3  administrative     account1  22.701       14       19\n",
       "4              AM     account1  22.702      634      778"
      ]
     },
     "execution_count": 3,
     "metadata": {},
     "output_type": "execute_result"
    }
   ],
   "source": [
    "dfa1"
   ]
  },
  {
   "cell_type": "markdown",
   "id": "1bb0c235-562f-4bec-9e2d-9c7e6d02fefc",
   "metadata": {},
   "source": [
    "## Edit categorical labels to match standard"
   ]
  },
  {
   "cell_type": "markdown",
   "id": "6bce8a77-e57d-4354-ac2d-931f1ef20a1f",
   "metadata": {},
   "source": [
    "### Update 'sector' column to fix capitalization, abbreviation inconsistencies"
   ]
  },
  {
   "cell_type": "code",
   "execution_count": 4,
   "id": "91c11e3a-191e-4c46-a894-9e6e0f4a960c",
   "metadata": {},
   "outputs": [
    {
     "data": {
      "text/plain": [
       "array(['finance', 'Finance', 'admin', 'administrative', 'AM'],\n",
       "      dtype=object)"
      ]
     },
     "execution_count": 4,
     "metadata": {},
     "output_type": "execute_result"
    }
   ],
   "source": [
    "# Check for different values in column to see what needs to be fixed\n",
    "dfa1['sector'].unique()"
   ]
  },
  {
   "cell_type": "code",
   "execution_count": 5,
   "id": "6d0b77b8-75af-45fc-9e3d-92e22b205c15",
   "metadata": {},
   "outputs": [],
   "source": [
    "# Fix capialization inconsistencies\n",
    "dfa1['sector'] = dfa1['sector'].str.capitalize()"
   ]
  },
  {
   "cell_type": "code",
   "execution_count": 6,
   "id": "bd53b8f3-1476-4e5b-a6da-cf385249de45",
   "metadata": {},
   "outputs": [
    {
     "data": {
      "text/plain": [
       "array(['Finance', 'Admin', 'Administrative', 'Am'], dtype=object)"
      ]
     },
     "execution_count": 6,
     "metadata": {},
     "output_type": "execute_result"
    }
   ],
   "source": [
    "dfa1['sector'].unique()"
   ]
  },
  {
   "cell_type": "code",
   "execution_count": 7,
   "id": "5ac746b0-5220-451d-8cb7-5ce4fa39a695",
   "metadata": {},
   "outputs": [],
   "source": [
    "# Eliminate abbreviations\n",
    "dfa1.loc[dfa1['sector'].str.contains('admin|am', case = False), 'sector'] = 'Administrative'"
   ]
  },
  {
   "cell_type": "code",
   "execution_count": 8,
   "id": "bd222e35-1319-456d-b5c7-29630fe53490",
   "metadata": {},
   "outputs": [
    {
     "data": {
      "text/plain": [
       "array(['Finance', 'Administrative'], dtype=object)"
      ]
     },
     "execution_count": 8,
     "metadata": {},
     "output_type": "execute_result"
    }
   ],
   "source": [
    "dfa1['sector'].unique()"
   ]
  },
  {
   "cell_type": "markdown",
   "id": "bb3dbe07-415f-4993-8a80-275f26b78b42",
   "metadata": {},
   "source": [
    "### Update 'department' column to fix spelling inconstencies & eliminate numbering"
   ]
  },
  {
   "cell_type": "code",
   "execution_count": 9,
   "id": "f69ff0d1-1037-423c-8743-b661d6f675af",
   "metadata": {},
   "outputs": [
    {
     "data": {
      "text/plain": [
       "array(['retirment', 'retriment_2', 'Purchassing', 'account1'],\n",
       "      dtype=object)"
      ]
     },
     "execution_count": 9,
     "metadata": {},
     "output_type": "execute_result"
    }
   ],
   "source": [
    "dfa1['department'].unique()"
   ]
  },
  {
   "cell_type": "code",
   "execution_count": 10,
   "id": "874faead-22a0-4c3f-8b7d-9fe866f417bf",
   "metadata": {},
   "outputs": [
    {
     "name": "stdout",
     "output_type": "stream",
     "text": [
      "['Retirement', 'Purchasing', 'Accounting']\n"
     ]
    }
   ],
   "source": [
    "# Create a dictionary with corrected labels\n",
    "label_dict = {'Retirement': 'Retirement', # Edit these to include any values desired as labels in cleaned template\n",
    "    'Purchasing': 'Purchasing', \n",
    "    'Accounting': 'Accounting'}\n",
    "\n",
    "# Turn dictionary into a list of keys to search against with rapidfuzz\n",
    "label_keys = list(label_dict.keys())\n",
    "\n",
    "print(label_keys)"
   ]
  },
  {
   "cell_type": "code",
   "execution_count": 11,
   "id": "8aa107c3-040c-4fb6-9c47-b23b7e01a432",
   "metadata": {},
   "outputs": [],
   "source": [
    "# Write a function using rapidfuzz to find best fuzzy match for label & return corrected label\n",
    "def fix_spelling(label, label_keys, label_dict, score_cutoff = 60):\n",
    "    # label = values in 'department' column\n",
    "    # label_keys = list of keys made from label dictionary\n",
    "    # label_dict = dictionary defined above with corrected label names\n",
    "    # score_cutoff = minimum threshold for fuzzy match function to not overcorrect label names- adjust if needed\n",
    "    \n",
    "    if pd.isna(label):\n",
    "        return label # Returns the original label if label is null\n",
    "        \n",
    "    match = process.extractOne(label, label_keys, scorer = fuzz.ratio, score_cutoff = score_cutoff)\n",
    "    \n",
    "    if match:\n",
    "        return label_dict[match[0]]\n",
    "    else:\n",
    "        return label # Returns the original label if the spelling is too inaccurate for the function to fix"
   ]
  },
  {
   "cell_type": "code",
   "execution_count": 12,
   "id": "a42467bf-e953-4762-8499-10c7b66068e4",
   "metadata": {},
   "outputs": [],
   "source": [
    "dfa1['department'] = dfa1['department'].apply(lambda x: fix_spelling(x, label_keys, label_dict))"
   ]
  },
  {
   "cell_type": "code",
   "execution_count": 13,
   "id": "3f760ce4-ab5e-4d90-aeca-842634254bd9",
   "metadata": {},
   "outputs": [
    {
     "data": {
      "text/plain": [
       "array(['Retirement', 'Purchasing', 'Accounting'], dtype=object)"
      ]
     },
     "execution_count": 13,
     "metadata": {},
     "output_type": "execute_result"
    }
   ],
   "source": [
    "dfa1['department'].unique()"
   ]
  },
  {
   "cell_type": "code",
   "execution_count": 14,
   "id": "b021c69c-7c1e-467a-9219-72f6392fd212",
   "metadata": {},
   "outputs": [
    {
     "data": {
      "text/html": [
       "<div>\n",
       "<style scoped>\n",
       "    .dataframe tbody tr th:only-of-type {\n",
       "        vertical-align: middle;\n",
       "    }\n",
       "\n",
       "    .dataframe tbody tr th {\n",
       "        vertical-align: top;\n",
       "    }\n",
       "\n",
       "    .dataframe thead th {\n",
       "        text-align: right;\n",
       "    }\n",
       "</style>\n",
       "<table border=\"1\" class=\"dataframe\">\n",
       "  <thead>\n",
       "    <tr style=\"text-align: right;\">\n",
       "      <th></th>\n",
       "      <th>sector</th>\n",
       "      <th>department</th>\n",
       "      <th>id</th>\n",
       "      <th>count_1</th>\n",
       "      <th>count_2</th>\n",
       "    </tr>\n",
       "  </thead>\n",
       "  <tbody>\n",
       "    <tr>\n",
       "      <th>0</th>\n",
       "      <td>Finance</td>\n",
       "      <td>Retirement</td>\n",
       "      <td>12.104</td>\n",
       "      <td>1412</td>\n",
       "      <td>3064</td>\n",
       "    </tr>\n",
       "    <tr>\n",
       "      <th>1</th>\n",
       "      <td>Finance</td>\n",
       "      <td>Retirement</td>\n",
       "      <td>12.221</td>\n",
       "      <td>19662</td>\n",
       "      <td>42758</td>\n",
       "    </tr>\n",
       "    <tr>\n",
       "      <th>2</th>\n",
       "      <td>Administrative</td>\n",
       "      <td>Purchasing</td>\n",
       "      <td>21.632</td>\n",
       "      <td>34</td>\n",
       "      <td>72</td>\n",
       "    </tr>\n",
       "    <tr>\n",
       "      <th>3</th>\n",
       "      <td>Administrative</td>\n",
       "      <td>Accounting</td>\n",
       "      <td>22.701</td>\n",
       "      <td>14</td>\n",
       "      <td>19</td>\n",
       "    </tr>\n",
       "    <tr>\n",
       "      <th>4</th>\n",
       "      <td>Administrative</td>\n",
       "      <td>Accounting</td>\n",
       "      <td>22.702</td>\n",
       "      <td>634</td>\n",
       "      <td>778</td>\n",
       "    </tr>\n",
       "  </tbody>\n",
       "</table>\n",
       "</div>"
      ],
      "text/plain": [
       "           sector  department      id  count_1  count_2\n",
       "0         Finance  Retirement  12.104     1412     3064\n",
       "1         Finance  Retirement  12.221    19662    42758\n",
       "2  Administrative  Purchasing  21.632       34       72\n",
       "3  Administrative  Accounting  22.701       14       19\n",
       "4  Administrative  Accounting  22.702      634      778"
      ]
     },
     "execution_count": 14,
     "metadata": {},
     "output_type": "execute_result"
    }
   ],
   "source": [
    "dfa1"
   ]
  },
  {
   "cell_type": "markdown",
   "id": "92613f00-f709-45bf-99b5-aaabf32d0043",
   "metadata": {},
   "source": [
    "### Update 'id' column to add sector & department abbreviations for standardization"
   ]
  },
  {
   "cell_type": "code",
   "execution_count": 15,
   "id": "9e225eda-d4c1-41c7-954c-14b482c7c26d",
   "metadata": {},
   "outputs": [
    {
     "name": "stdout",
     "output_type": "stream",
     "text": [
      "<class 'pandas.core.frame.DataFrame'>\n",
      "RangeIndex: 5 entries, 0 to 4\n",
      "Data columns (total 5 columns):\n",
      " #   Column      Non-Null Count  Dtype  \n",
      "---  ------      --------------  -----  \n",
      " 0   sector      5 non-null      object \n",
      " 1   department  5 non-null      object \n",
      " 2   id          5 non-null      float64\n",
      " 3   count_1     5 non-null      int64  \n",
      " 4   count_2     5 non-null      int64  \n",
      "dtypes: float64(1), int64(2), object(2)\n",
      "memory usage: 332.0+ bytes\n"
     ]
    }
   ],
   "source": [
    "dfa1.info()"
   ]
  },
  {
   "cell_type": "code",
   "execution_count": 16,
   "id": "c35cabf7-60fb-4f00-9d1a-fd6d92504470",
   "metadata": {},
   "outputs": [],
   "source": [
    "# Create id_new column to update ids to include sector & department abbreviations\n",
    "dfa1['id_new'] = dfa1['sector'].str[0] + '_' + dfa1['department'].str[0] + '_' + dfa1['id'].astype(str)"
   ]
  },
  {
   "cell_type": "code",
   "execution_count": 17,
   "id": "93b0bc5b-ba0a-4db9-a908-7cdd088527e3",
   "metadata": {},
   "outputs": [
    {
     "data": {
      "text/html": [
       "<div>\n",
       "<style scoped>\n",
       "    .dataframe tbody tr th:only-of-type {\n",
       "        vertical-align: middle;\n",
       "    }\n",
       "\n",
       "    .dataframe tbody tr th {\n",
       "        vertical-align: top;\n",
       "    }\n",
       "\n",
       "    .dataframe thead th {\n",
       "        text-align: right;\n",
       "    }\n",
       "</style>\n",
       "<table border=\"1\" class=\"dataframe\">\n",
       "  <thead>\n",
       "    <tr style=\"text-align: right;\">\n",
       "      <th></th>\n",
       "      <th>sector</th>\n",
       "      <th>department</th>\n",
       "      <th>id</th>\n",
       "      <th>count_1</th>\n",
       "      <th>count_2</th>\n",
       "      <th>id_new</th>\n",
       "    </tr>\n",
       "  </thead>\n",
       "  <tbody>\n",
       "    <tr>\n",
       "      <th>0</th>\n",
       "      <td>Finance</td>\n",
       "      <td>Retirement</td>\n",
       "      <td>12.104</td>\n",
       "      <td>1412</td>\n",
       "      <td>3064</td>\n",
       "      <td>F_R_12.104</td>\n",
       "    </tr>\n",
       "    <tr>\n",
       "      <th>1</th>\n",
       "      <td>Finance</td>\n",
       "      <td>Retirement</td>\n",
       "      <td>12.221</td>\n",
       "      <td>19662</td>\n",
       "      <td>42758</td>\n",
       "      <td>F_R_12.221</td>\n",
       "    </tr>\n",
       "    <tr>\n",
       "      <th>2</th>\n",
       "      <td>Administrative</td>\n",
       "      <td>Purchasing</td>\n",
       "      <td>21.632</td>\n",
       "      <td>34</td>\n",
       "      <td>72</td>\n",
       "      <td>A_P_21.632</td>\n",
       "    </tr>\n",
       "    <tr>\n",
       "      <th>3</th>\n",
       "      <td>Administrative</td>\n",
       "      <td>Accounting</td>\n",
       "      <td>22.701</td>\n",
       "      <td>14</td>\n",
       "      <td>19</td>\n",
       "      <td>A_A_22.701</td>\n",
       "    </tr>\n",
       "    <tr>\n",
       "      <th>4</th>\n",
       "      <td>Administrative</td>\n",
       "      <td>Accounting</td>\n",
       "      <td>22.702</td>\n",
       "      <td>634</td>\n",
       "      <td>778</td>\n",
       "      <td>A_A_22.702</td>\n",
       "    </tr>\n",
       "  </tbody>\n",
       "</table>\n",
       "</div>"
      ],
      "text/plain": [
       "           sector  department      id  count_1  count_2      id_new\n",
       "0         Finance  Retirement  12.104     1412     3064  F_R_12.104\n",
       "1         Finance  Retirement  12.221    19662    42758  F_R_12.221\n",
       "2  Administrative  Purchasing  21.632       34       72  A_P_21.632\n",
       "3  Administrative  Accounting  22.701       14       19  A_A_22.701\n",
       "4  Administrative  Accounting  22.702      634      778  A_A_22.702"
      ]
     },
     "execution_count": 17,
     "metadata": {},
     "output_type": "execute_result"
    }
   ],
   "source": [
    "dfa1"
   ]
  },
  {
   "cell_type": "code",
   "execution_count": 18,
   "id": "d23fb26c-165c-4b85-9612-14bb58e48659",
   "metadata": {},
   "outputs": [],
   "source": [
    "# Drop original 'id' column\n",
    "dfa1 = dfa1.drop('id', axis = 1)"
   ]
  },
  {
   "cell_type": "code",
   "execution_count": 19,
   "id": "dda27623-a816-40c4-adca-930917b141d8",
   "metadata": {},
   "outputs": [],
   "source": [
    "# Move 'id_new' to 'id' position\n",
    "col = dfa1.pop('id_new')\n",
    "dfa1.insert(2, 'id_new', col)\n",
    "\n",
    "# Rename 'id_new' to 'id'\n",
    "dfa1.rename(columns = {'id_new': 'id'}, inplace = True)"
   ]
  },
  {
   "cell_type": "code",
   "execution_count": 20,
   "id": "e4bbf1b6-de1b-4e06-ac9d-4091c311ebfc",
   "metadata": {},
   "outputs": [
    {
     "data": {
      "text/html": [
       "<div>\n",
       "<style scoped>\n",
       "    .dataframe tbody tr th:only-of-type {\n",
       "        vertical-align: middle;\n",
       "    }\n",
       "\n",
       "    .dataframe tbody tr th {\n",
       "        vertical-align: top;\n",
       "    }\n",
       "\n",
       "    .dataframe thead th {\n",
       "        text-align: right;\n",
       "    }\n",
       "</style>\n",
       "<table border=\"1\" class=\"dataframe\">\n",
       "  <thead>\n",
       "    <tr style=\"text-align: right;\">\n",
       "      <th></th>\n",
       "      <th>sector</th>\n",
       "      <th>department</th>\n",
       "      <th>id</th>\n",
       "      <th>count_1</th>\n",
       "      <th>count_2</th>\n",
       "    </tr>\n",
       "  </thead>\n",
       "  <tbody>\n",
       "    <tr>\n",
       "      <th>0</th>\n",
       "      <td>Finance</td>\n",
       "      <td>Retirement</td>\n",
       "      <td>F_R_12.104</td>\n",
       "      <td>1412</td>\n",
       "      <td>3064</td>\n",
       "    </tr>\n",
       "    <tr>\n",
       "      <th>1</th>\n",
       "      <td>Finance</td>\n",
       "      <td>Retirement</td>\n",
       "      <td>F_R_12.221</td>\n",
       "      <td>19662</td>\n",
       "      <td>42758</td>\n",
       "    </tr>\n",
       "    <tr>\n",
       "      <th>2</th>\n",
       "      <td>Administrative</td>\n",
       "      <td>Purchasing</td>\n",
       "      <td>A_P_21.632</td>\n",
       "      <td>34</td>\n",
       "      <td>72</td>\n",
       "    </tr>\n",
       "    <tr>\n",
       "      <th>3</th>\n",
       "      <td>Administrative</td>\n",
       "      <td>Accounting</td>\n",
       "      <td>A_A_22.701</td>\n",
       "      <td>14</td>\n",
       "      <td>19</td>\n",
       "    </tr>\n",
       "    <tr>\n",
       "      <th>4</th>\n",
       "      <td>Administrative</td>\n",
       "      <td>Accounting</td>\n",
       "      <td>A_A_22.702</td>\n",
       "      <td>634</td>\n",
       "      <td>778</td>\n",
       "    </tr>\n",
       "  </tbody>\n",
       "</table>\n",
       "</div>"
      ],
      "text/plain": [
       "           sector  department          id  count_1  count_2\n",
       "0         Finance  Retirement  F_R_12.104     1412     3064\n",
       "1         Finance  Retirement  F_R_12.221    19662    42758\n",
       "2  Administrative  Purchasing  A_P_21.632       34       72\n",
       "3  Administrative  Accounting  A_A_22.701       14       19\n",
       "4  Administrative  Accounting  A_A_22.702      634      778"
      ]
     },
     "execution_count": 20,
     "metadata": {},
     "output_type": "execute_result"
    }
   ],
   "source": [
    "dfa1"
   ]
  },
  {
   "cell_type": "markdown",
   "id": "1fd18ac9-9b71-4092-89e8-6ae87e2f2e7b",
   "metadata": {},
   "source": [
    "## Export data"
   ]
  },
  {
   "cell_type": "code",
   "execution_count": 21,
   "id": "171e0f08-2ac9-400c-b1b1-a94ea3bd4ab7",
   "metadata": {},
   "outputs": [],
   "source": [
    "dfa1.to_csv('cleaned_data_labels.csv', encoding = 'utf-8', index = False, header = True)"
   ]
  }
 ],
 "metadata": {
  "kernelspec": {
   "display_name": "Python 3 (ipykernel)",
   "language": "python",
   "name": "python3"
  },
  "language_info": {
   "codemirror_mode": {
    "name": "ipython",
    "version": 3
   },
   "file_extension": ".py",
   "mimetype": "text/x-python",
   "name": "python",
   "nbconvert_exporter": "python",
   "pygments_lexer": "ipython3",
   "version": "3.11.7"
  }
 },
 "nbformat": 4,
 "nbformat_minor": 5
}
