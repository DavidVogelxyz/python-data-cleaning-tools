{
 "cells": [
  {
   "cell_type": "markdown",
   "id": "e33e32f6-98f1-46b8-89f1-3caf3c4f9852",
   "metadata": {},
   "source": [
    "# Clean & export all files in directory"
   ]
  },
  {
   "cell_type": "markdown",
   "id": "7456b02c-1119-44a5-9004-97091ae80551",
   "metadata": {},
   "source": [
    "### Description"
   ]
  },
  {
   "cell_type": "markdown",
   "id": "1846601a-0802-497c-9051-ac4e1f559dcb",
   "metadata": {},
   "source": [
    "- Use to perform 1+ cleaning actions on all files contained within a certain directory\n",
    "- Import, clean file, export to new directory, repeat for all files in folder\n",
    "- Useful if all templates are identical- loop through folder for efficiency\n",
    "- Can add in relative paths to other folders for import or export"
   ]
  },
  {
   "cell_type": "markdown",
   "id": "9f2ede33-7c13-4658-b6b8-524e847f72b7",
   "metadata": {},
   "source": [
    "## Import libraries"
   ]
  },
  {
   "cell_type": "code",
   "execution_count": 1,
   "id": "9de1bb16-a211-4531-aa54-57254836230e",
   "metadata": {},
   "outputs": [],
   "source": [
    "import os\n",
    "import pandas as pd"
   ]
  },
  {
   "cell_type": "markdown",
   "id": "df9ea363-4747-4f18-94c2-0ab16bb7a6de",
   "metadata": {},
   "source": [
    "## Define function for cleaning"
   ]
  },
  {
   "cell_type": "code",
   "execution_count": 2,
   "id": "fac79544-944e-4941-bc52-6de6c0d7fc09",
   "metadata": {},
   "outputs": [],
   "source": [
    "# Add all steps for cleaning within clean_data(), then return df to continue to next step\n",
    "def clean_data(df):\n",
    "    \n",
    "    # Example cleaning- sort by number column\n",
    "    df = df.sort_values('number')\n",
    "    \n",
    "    return df"
   ]
  },
  {
   "cell_type": "markdown",
   "id": "6c5c7eb2-755e-4422-aa36-8c72760e5abe",
   "metadata": {},
   "source": [
    "## Clean & export files"
   ]
  },
  {
   "cell_type": "code",
   "execution_count": 3,
   "id": "f60c3a53-952b-4310-8003-6d622df6ac3c",
   "metadata": {},
   "outputs": [
    {
     "name": "stdout",
     "output_type": "stream",
     "text": [
      "Cleaned & saved sub_file_raw_1.csv\n",
      "Cleaned & saved sub_file_raw_2.csv\n",
      "Cleaned & saved sub_file_raw_3.csv\n"
     ]
    }
   ],
   "source": [
    "# Define folders to pull raw data files from & put clean data files into\n",
    "sub_folder_raw = 'sub_folder_raw'\n",
    "sub_folder_clean = 'sub_folder_clean'\n",
    "\n",
    "# Iterate through files in sub_folder_raw, clean, & export to sub_folder_clean\n",
    "for file in os.listdir(sub_folder_raw):\n",
    "    if file.endswith('.csv'):\n",
    "        file_path_raw = os.path.join(sub_folder_raw, file)\n",
    "    try:\n",
    "        df = pd.read_csv(file_path_raw) # Read in each file\n",
    "        dfa1 = clean_data(df) # Clean each file\n",
    "        file_name_clean = f'cleaned_{file}'\n",
    "        file_path_clean = os.path.join(sub_folder_clean, file_name_clean)\n",
    "        dfa1.to_csv(file_path_clean, encoding = 'utf-8', index = False, header = True) # Save cleaned df in sub_folder_clean\n",
    "        print(f'Cleaned & saved {file}')\n",
    "    except Exception as err:\n",
    "        print(f'Error, file {file} not cleaned: {err}')"
   ]
  }
 ],
 "metadata": {
  "kernelspec": {
   "display_name": "Python 3 (ipykernel)",
   "language": "python",
   "name": "python3"
  },
  "language_info": {
   "codemirror_mode": {
    "name": "ipython",
    "version": 3
   },
   "file_extension": ".py",
   "mimetype": "text/x-python",
   "name": "python",
   "nbconvert_exporter": "python",
   "pygments_lexer": "ipython3",
   "version": "3.11.7"
  }
 },
 "nbformat": 4,
 "nbformat_minor": 5
}
