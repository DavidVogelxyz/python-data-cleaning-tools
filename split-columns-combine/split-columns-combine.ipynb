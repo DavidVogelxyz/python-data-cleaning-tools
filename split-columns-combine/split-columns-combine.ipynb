{
 "cells": [
  {
   "cell_type": "markdown",
   "id": "02823418-8635-4202-8307-3809f8afc8c9",
   "metadata": {},
   "source": [
    "# Combine columns with same header split across template"
   ]
  },
  {
   "cell_type": "markdown",
   "id": "87a59ae2-9ea1-42e0-9f4b-a4f9c10b2869",
   "metadata": {},
   "source": [
    "### Description"
   ]
  },
  {
   "cell_type": "markdown",
   "id": "1cde87b3-83e4-417b-9ba7-e83569b4343d",
   "metadata": {},
   "source": [
    "- Use when data template has same headers split into 2+ columns for readability in Excel\n",
    "- Split into 2 dataframes & merge - better formatting control with merge\n",
    "- Useful when data template is designed to fit on a single print-out in Excel\n",
    "- Can incorporate into cleaning function when iterating through files in a directory "
   ]
  },
  {
   "cell_type": "markdown",
   "id": "5136420b-a5de-4c44-b370-289bda837ef2",
   "metadata": {},
   "source": [
    "## Import libraries"
   ]
  },
  {
   "cell_type": "code",
   "execution_count": 1,
   "id": "769a2622-ec7c-4c75-99b5-3f154f59f8a7",
   "metadata": {},
   "outputs": [],
   "source": [
    "import pandas as pd\n",
    "import numpy as np\n",
    "import os"
   ]
  },
  {
   "cell_type": "markdown",
   "id": "def27030-ff76-472a-9d70-18a780fee4a9",
   "metadata": {},
   "source": [
    "## Import data"
   ]
  },
  {
   "cell_type": "code",
   "execution_count": 2,
   "id": "a3062f48-1cf4-4973-b3e1-205b92c65a7c",
   "metadata": {},
   "outputs": [],
   "source": [
    "dfa1 = pd.read_csv('data_split_columns_raw.csv')"
   ]
  },
  {
   "cell_type": "code",
   "execution_count": 3,
   "id": "984ba105-7a6e-4003-b726-90184e9471a6",
   "metadata": {},
   "outputs": [
    {
     "data": {
      "text/html": [
       "<div>\n",
       "<style scoped>\n",
       "    .dataframe tbody tr th:only-of-type {\n",
       "        vertical-align: middle;\n",
       "    }\n",
       "\n",
       "    .dataframe tbody tr th {\n",
       "        vertical-align: top;\n",
       "    }\n",
       "\n",
       "    .dataframe thead th {\n",
       "        text-align: right;\n",
       "    }\n",
       "</style>\n",
       "<table border=\"1\" class=\"dataframe\">\n",
       "  <thead>\n",
       "    <tr style=\"text-align: right;\">\n",
       "      <th></th>\n",
       "      <th>number</th>\n",
       "      <th>letter</th>\n",
       "      <th>color</th>\n",
       "      <th>number.1</th>\n",
       "      <th>letter.1</th>\n",
       "      <th>color.1</th>\n",
       "    </tr>\n",
       "  </thead>\n",
       "  <tbody>\n",
       "    <tr>\n",
       "      <th>0</th>\n",
       "      <td>1</td>\n",
       "      <td>a</td>\n",
       "      <td>red</td>\n",
       "      <td>4</td>\n",
       "      <td>d</td>\n",
       "      <td>green</td>\n",
       "    </tr>\n",
       "    <tr>\n",
       "      <th>1</th>\n",
       "      <td>2</td>\n",
       "      <td>b</td>\n",
       "      <td>orange</td>\n",
       "      <td>5</td>\n",
       "      <td>e</td>\n",
       "      <td>blue</td>\n",
       "    </tr>\n",
       "    <tr>\n",
       "      <th>2</th>\n",
       "      <td>3</td>\n",
       "      <td>c</td>\n",
       "      <td>yellow</td>\n",
       "      <td>6</td>\n",
       "      <td>f</td>\n",
       "      <td>purple</td>\n",
       "    </tr>\n",
       "  </tbody>\n",
       "</table>\n",
       "</div>"
      ],
      "text/plain": [
       "   number letter   color  number.1 letter.1 color.1\n",
       "0       1      a     red         4        d   green\n",
       "1       2      b  orange         5        e    blue\n",
       "2       3      c  yellow         6        f  purple"
      ]
     },
     "execution_count": 3,
     "metadata": {},
     "output_type": "execute_result"
    }
   ],
   "source": [
    "dfa1"
   ]
  },
  {
   "cell_type": "markdown",
   "id": "1a8bf8f5-5750-4c87-8194-86403d2516a5",
   "metadata": {},
   "source": [
    "## Split the dataframe"
   ]
  },
  {
   "cell_type": "code",
   "execution_count": 4,
   "id": "fba6d9bf-2bc6-46b3-9829-fe2bebc3fa2b",
   "metadata": {},
   "outputs": [],
   "source": [
    "# Make a slice of dfa1 containing the left 3 columns\n",
    "dfa2 = dfa1[['number', 'letter', 'color']]\n",
    "\n",
    "# Make another slice of dfa1 containing the right 3 columns\n",
    "dfb1 = dfa1[['number.1', 'letter.1', 'color.1']]"
   ]
  },
  {
   "cell_type": "code",
   "execution_count": 5,
   "id": "6a6a7488-0904-4fe1-a93f-f29c48a9eea1",
   "metadata": {},
   "outputs": [
    {
     "data": {
      "text/html": [
       "<div>\n",
       "<style scoped>\n",
       "    .dataframe tbody tr th:only-of-type {\n",
       "        vertical-align: middle;\n",
       "    }\n",
       "\n",
       "    .dataframe tbody tr th {\n",
       "        vertical-align: top;\n",
       "    }\n",
       "\n",
       "    .dataframe thead th {\n",
       "        text-align: right;\n",
       "    }\n",
       "</style>\n",
       "<table border=\"1\" class=\"dataframe\">\n",
       "  <thead>\n",
       "    <tr style=\"text-align: right;\">\n",
       "      <th></th>\n",
       "      <th>number</th>\n",
       "      <th>letter</th>\n",
       "      <th>color</th>\n",
       "    </tr>\n",
       "  </thead>\n",
       "  <tbody>\n",
       "    <tr>\n",
       "      <th>0</th>\n",
       "      <td>1</td>\n",
       "      <td>a</td>\n",
       "      <td>red</td>\n",
       "    </tr>\n",
       "    <tr>\n",
       "      <th>1</th>\n",
       "      <td>2</td>\n",
       "      <td>b</td>\n",
       "      <td>orange</td>\n",
       "    </tr>\n",
       "    <tr>\n",
       "      <th>2</th>\n",
       "      <td>3</td>\n",
       "      <td>c</td>\n",
       "      <td>yellow</td>\n",
       "    </tr>\n",
       "  </tbody>\n",
       "</table>\n",
       "</div>"
      ],
      "text/plain": [
       "   number letter   color\n",
       "0       1      a     red\n",
       "1       2      b  orange\n",
       "2       3      c  yellow"
      ]
     },
     "execution_count": 5,
     "metadata": {},
     "output_type": "execute_result"
    }
   ],
   "source": [
    "dfa2"
   ]
  },
  {
   "cell_type": "code",
   "execution_count": 6,
   "id": "bb157a9d-bbca-41a0-a45b-5d704b2027cd",
   "metadata": {},
   "outputs": [
    {
     "data": {
      "text/html": [
       "<div>\n",
       "<style scoped>\n",
       "    .dataframe tbody tr th:only-of-type {\n",
       "        vertical-align: middle;\n",
       "    }\n",
       "\n",
       "    .dataframe tbody tr th {\n",
       "        vertical-align: top;\n",
       "    }\n",
       "\n",
       "    .dataframe thead th {\n",
       "        text-align: right;\n",
       "    }\n",
       "</style>\n",
       "<table border=\"1\" class=\"dataframe\">\n",
       "  <thead>\n",
       "    <tr style=\"text-align: right;\">\n",
       "      <th></th>\n",
       "      <th>number.1</th>\n",
       "      <th>letter.1</th>\n",
       "      <th>color.1</th>\n",
       "    </tr>\n",
       "  </thead>\n",
       "  <tbody>\n",
       "    <tr>\n",
       "      <th>0</th>\n",
       "      <td>4</td>\n",
       "      <td>d</td>\n",
       "      <td>green</td>\n",
       "    </tr>\n",
       "    <tr>\n",
       "      <th>1</th>\n",
       "      <td>5</td>\n",
       "      <td>e</td>\n",
       "      <td>blue</td>\n",
       "    </tr>\n",
       "    <tr>\n",
       "      <th>2</th>\n",
       "      <td>6</td>\n",
       "      <td>f</td>\n",
       "      <td>purple</td>\n",
       "    </tr>\n",
       "  </tbody>\n",
       "</table>\n",
       "</div>"
      ],
      "text/plain": [
       "   number.1 letter.1 color.1\n",
       "0         4        d   green\n",
       "1         5        e    blue\n",
       "2         6        f  purple"
      ]
     },
     "execution_count": 6,
     "metadata": {},
     "output_type": "execute_result"
    }
   ],
   "source": [
    "dfb1"
   ]
  },
  {
   "cell_type": "markdown",
   "id": "79f6d296-d8cd-4331-bf1e-6a4f333fd753",
   "metadata": {},
   "source": [
    "## Prepare the split dataframes for merging"
   ]
  },
  {
   "cell_type": "code",
   "execution_count": 7,
   "id": "d98389e7-59fe-4d15-9f39-bbb521a4310a",
   "metadata": {},
   "outputs": [],
   "source": [
    "# Rename columns in dfb1 to match dfa2 column headers\n",
    "# Only do this if the column order already matches- resort columns first if needed\n",
    "dfb1.columns = dfa2.columns"
   ]
  },
  {
   "cell_type": "code",
   "execution_count": 8,
   "id": "973af1e7-d210-4dd0-b991-e46739184e18",
   "metadata": {},
   "outputs": [
    {
     "name": "stdout",
     "output_type": "stream",
     "text": [
      "<class 'pandas.core.frame.DataFrame'>\n",
      "RangeIndex: 3 entries, 0 to 2\n",
      "Data columns (total 3 columns):\n",
      " #   Column  Non-Null Count  Dtype \n",
      "---  ------  --------------  ----- \n",
      " 0   number  3 non-null      int64 \n",
      " 1   letter  3 non-null      object\n",
      " 2   color   3 non-null      object\n",
      "dtypes: int64(1), object(2)\n",
      "memory usage: 204.0+ bytes\n"
     ]
    }
   ],
   "source": [
    "dfb1.info()"
   ]
  },
  {
   "cell_type": "code",
   "execution_count": 9,
   "id": "1ab942cb-d0aa-4941-8320-e7f43e2b7be9",
   "metadata": {},
   "outputs": [
    {
     "name": "stdout",
     "output_type": "stream",
     "text": [
      "<class 'pandas.core.frame.DataFrame'>\n",
      "RangeIndex: 3 entries, 0 to 2\n",
      "Data columns (total 3 columns):\n",
      " #   Column  Non-Null Count  Dtype \n",
      "---  ------  --------------  ----- \n",
      " 0   number  3 non-null      int64 \n",
      " 1   letter  3 non-null      object\n",
      " 2   color   3 non-null      object\n",
      "dtypes: int64(1), object(2)\n",
      "memory usage: 204.0+ bytes\n"
     ]
    }
   ],
   "source": [
    "dfa2.info()"
   ]
  },
  {
   "cell_type": "markdown",
   "id": "991693fd-fd7a-4e1f-a3ec-fa8b2396c040",
   "metadata": {},
   "source": [
    "## Merge the split dataframes into new dataframe"
   ]
  },
  {
   "cell_type": "code",
   "execution_count": 10,
   "id": "20c1541f-7bfd-406a-ad94-c86ca43a0053",
   "metadata": {},
   "outputs": [],
   "source": [
    "dfa3 = pd.concat([dfa2, dfb1], ignore_index = True)"
   ]
  },
  {
   "cell_type": "code",
   "execution_count": 11,
   "id": "cd64ae46-8cc1-4160-86a7-104aee7f5445",
   "metadata": {},
   "outputs": [
    {
     "data": {
      "text/html": [
       "<div>\n",
       "<style scoped>\n",
       "    .dataframe tbody tr th:only-of-type {\n",
       "        vertical-align: middle;\n",
       "    }\n",
       "\n",
       "    .dataframe tbody tr th {\n",
       "        vertical-align: top;\n",
       "    }\n",
       "\n",
       "    .dataframe thead th {\n",
       "        text-align: right;\n",
       "    }\n",
       "</style>\n",
       "<table border=\"1\" class=\"dataframe\">\n",
       "  <thead>\n",
       "    <tr style=\"text-align: right;\">\n",
       "      <th></th>\n",
       "      <th>number</th>\n",
       "      <th>letter</th>\n",
       "      <th>color</th>\n",
       "    </tr>\n",
       "  </thead>\n",
       "  <tbody>\n",
       "    <tr>\n",
       "      <th>0</th>\n",
       "      <td>1</td>\n",
       "      <td>a</td>\n",
       "      <td>red</td>\n",
       "    </tr>\n",
       "    <tr>\n",
       "      <th>1</th>\n",
       "      <td>2</td>\n",
       "      <td>b</td>\n",
       "      <td>orange</td>\n",
       "    </tr>\n",
       "    <tr>\n",
       "      <th>2</th>\n",
       "      <td>3</td>\n",
       "      <td>c</td>\n",
       "      <td>yellow</td>\n",
       "    </tr>\n",
       "    <tr>\n",
       "      <th>3</th>\n",
       "      <td>4</td>\n",
       "      <td>d</td>\n",
       "      <td>green</td>\n",
       "    </tr>\n",
       "    <tr>\n",
       "      <th>4</th>\n",
       "      <td>5</td>\n",
       "      <td>e</td>\n",
       "      <td>blue</td>\n",
       "    </tr>\n",
       "    <tr>\n",
       "      <th>5</th>\n",
       "      <td>6</td>\n",
       "      <td>f</td>\n",
       "      <td>purple</td>\n",
       "    </tr>\n",
       "  </tbody>\n",
       "</table>\n",
       "</div>"
      ],
      "text/plain": [
       "   number letter   color\n",
       "0       1      a     red\n",
       "1       2      b  orange\n",
       "2       3      c  yellow\n",
       "3       4      d   green\n",
       "4       5      e    blue\n",
       "5       6      f  purple"
      ]
     },
     "execution_count": 11,
     "metadata": {},
     "output_type": "execute_result"
    }
   ],
   "source": [
    "dfa3"
   ]
  },
  {
   "cell_type": "code",
   "execution_count": 12,
   "id": "4200f387-7a18-492b-b334-a066219161f2",
   "metadata": {},
   "outputs": [
    {
     "name": "stdout",
     "output_type": "stream",
     "text": [
      "<class 'pandas.core.frame.DataFrame'>\n",
      "RangeIndex: 6 entries, 0 to 5\n",
      "Data columns (total 3 columns):\n",
      " #   Column  Non-Null Count  Dtype \n",
      "---  ------  --------------  ----- \n",
      " 0   number  6 non-null      int64 \n",
      " 1   letter  6 non-null      object\n",
      " 2   color   6 non-null      object\n",
      "dtypes: int64(1), object(2)\n",
      "memory usage: 276.0+ bytes\n"
     ]
    }
   ],
   "source": [
    "dfa3.info()"
   ]
  },
  {
   "cell_type": "markdown",
   "id": "ebc4efe9-e6a4-4059-a866-6b703a1a170d",
   "metadata": {},
   "source": [
    "## Export data"
   ]
  },
  {
   "cell_type": "code",
   "execution_count": 13,
   "id": "3d2f2df5-8fcb-4dd8-a63d-0cc1ac85a893",
   "metadata": {},
   "outputs": [],
   "source": [
    "dfa3.to_csv('cleaned_data_split_columns.csv', encoding = 'utf-8', index = False, header = True)"
   ]
  }
 ],
 "metadata": {
  "kernelspec": {
   "display_name": "Python 3 (ipykernel)",
   "language": "python",
   "name": "python3"
  },
  "language_info": {
   "codemirror_mode": {
    "name": "ipython",
    "version": 3
   },
   "file_extension": ".py",
   "mimetype": "text/x-python",
   "name": "python",
   "nbconvert_exporter": "python",
   "pygments_lexer": "ipython3",
   "version": "3.11.7"
  }
 },
 "nbformat": 4,
 "nbformat_minor": 5
}
