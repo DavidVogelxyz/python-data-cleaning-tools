{
 "cells": [
  {
   "cell_type": "markdown",
   "id": "fc2cb9c0-c817-48bc-a419-bcf27466d689",
   "metadata": {},
   "source": [
    "# Drop all columns from template except those needed"
   ]
  },
  {
   "cell_type": "markdown",
   "id": "305d031d-0d98-4268-9c18-d3738789f66e",
   "metadata": {},
   "source": [
    "### Description"
   ]
  },
  {
   "cell_type": "markdown",
   "id": "54a4a9b0-682e-465e-8a82-e5bd54509809",
   "metadata": {},
   "source": [
    "- Use when only keeping a portion of the dataset contained within a template\n",
    "- Can also use for large dataset cleaning\n",
    "- Filter based on header name, header string contents, location in sheet, column value, no header contents, or a combination of these\n",
    "- Useful when template contains more variables than needed, columns with no header label & contents aren't needed, columns with non-data entries\n",
    "- Can incorporate into cleaning function when iterating through files in a directory"
   ]
  },
  {
   "cell_type": "markdown",
   "id": "ab603bd8-91ec-464c-8295-df4acdd84171",
   "metadata": {},
   "source": [
    "## Import libraries"
   ]
  },
  {
   "cell_type": "code",
   "execution_count": 1,
   "id": "b27990c6-cb61-4cf9-b8fa-ecb40ea3c4e7",
   "metadata": {},
   "outputs": [],
   "source": [
    "import pandas as pd"
   ]
  },
  {
   "cell_type": "markdown",
   "id": "8696bacf-0de5-4364-8154-1704aa23cb88",
   "metadata": {},
   "source": [
    "## Import data"
   ]
  },
  {
   "cell_type": "code",
   "execution_count": 2,
   "id": "0b9cbf89-7c88-4bb2-ac57-89479ea101a9",
   "metadata": {},
   "outputs": [],
   "source": [
    "dfa1 = pd.read_csv('columns_template_raw.csv')"
   ]
  },
  {
   "cell_type": "code",
   "execution_count": 3,
   "id": "985629d1-d496-4e2d-8e07-80b28fb56aa0",
   "metadata": {},
   "outputs": [
    {
     "data": {
      "text/html": [
       "<div>\n",
       "<style scoped>\n",
       "    .dataframe tbody tr th:only-of-type {\n",
       "        vertical-align: middle;\n",
       "    }\n",
       "\n",
       "    .dataframe tbody tr th {\n",
       "        vertical-align: top;\n",
       "    }\n",
       "\n",
       "    .dataframe thead th {\n",
       "        text-align: right;\n",
       "    }\n",
       "</style>\n",
       "<table border=\"1\" class=\"dataframe\">\n",
       "  <thead>\n",
       "    <tr style=\"text-align: right;\">\n",
       "      <th></th>\n",
       "      <th>sector</th>\n",
       "      <th>id</th>\n",
       "      <th>Unnamed: 2</th>\n",
       "      <th>loc_1</th>\n",
       "      <th>loc_2</th>\n",
       "      <th>number</th>\n",
       "      <th>Unnamed: 6</th>\n",
       "      <th>letter_1</th>\n",
       "      <th>color</th>\n",
       "      <th>count_1</th>\n",
       "      <th>count_2</th>\n",
       "    </tr>\n",
       "  </thead>\n",
       "  <tbody>\n",
       "    <tr>\n",
       "      <th>0</th>\n",
       "      <td>hq</td>\n",
       "      <td>P1.1</td>\n",
       "      <td>NaN</td>\n",
       "      <td>north</td>\n",
       "      <td>up</td>\n",
       "      <td>1</td>\n",
       "      <td>NaN</td>\n",
       "      <td>a</td>\n",
       "      <td>red</td>\n",
       "      <td>24</td>\n",
       "      <td>156</td>\n",
       "    </tr>\n",
       "    <tr>\n",
       "      <th>1</th>\n",
       "      <td>hq</td>\n",
       "      <td>P1.2</td>\n",
       "      <td>blank</td>\n",
       "      <td>south</td>\n",
       "      <td>down</td>\n",
       "      <td>2</td>\n",
       "      <td>NaN</td>\n",
       "      <td>b</td>\n",
       "      <td>orange</td>\n",
       "      <td>32</td>\n",
       "      <td>213</td>\n",
       "    </tr>\n",
       "    <tr>\n",
       "      <th>2</th>\n",
       "      <td>labor</td>\n",
       "      <td>P1.3</td>\n",
       "      <td>NaN</td>\n",
       "      <td>east</td>\n",
       "      <td>left</td>\n",
       "      <td>3</td>\n",
       "      <td>blank</td>\n",
       "      <td>c</td>\n",
       "      <td>yellow</td>\n",
       "      <td>52</td>\n",
       "      <td>783</td>\n",
       "    </tr>\n",
       "    <tr>\n",
       "      <th>3</th>\n",
       "      <td>labor</td>\n",
       "      <td>P1.4</td>\n",
       "      <td>NaN</td>\n",
       "      <td>west</td>\n",
       "      <td>right</td>\n",
       "      <td>4</td>\n",
       "      <td>NaN</td>\n",
       "      <td>d</td>\n",
       "      <td>green</td>\n",
       "      <td>30</td>\n",
       "      <td>298</td>\n",
       "    </tr>\n",
       "  </tbody>\n",
       "</table>\n",
       "</div>"
      ],
      "text/plain": [
       "  sector    id Unnamed: 2  loc_1  loc_2  number Unnamed: 6 letter_1   color  \\\n",
       "0     hq  P1.1        NaN  north     up       1        NaN        a     red   \n",
       "1     hq  P1.2      blank  south   down       2        NaN        b  orange   \n",
       "2  labor  P1.3        NaN   east   left       3      blank        c  yellow   \n",
       "3  labor  P1.4        NaN   west  right       4        NaN        d   green   \n",
       "\n",
       "   count_1  count_2  \n",
       "0       24      156  \n",
       "1       32      213  \n",
       "2       52      783  \n",
       "3       30      298  "
      ]
     },
     "execution_count": 3,
     "metadata": {},
     "output_type": "execute_result"
    }
   ],
   "source": [
    "dfa1"
   ]
  },
  {
   "cell_type": "code",
   "execution_count": 4,
   "id": "3f5aec03-6c1f-473d-a5eb-6c15a2cc47ad",
   "metadata": {},
   "outputs": [
    {
     "name": "stdout",
     "output_type": "stream",
     "text": [
      "<class 'pandas.core.frame.DataFrame'>\n",
      "RangeIndex: 4 entries, 0 to 3\n",
      "Data columns (total 11 columns):\n",
      " #   Column      Non-Null Count  Dtype \n",
      "---  ------      --------------  ----- \n",
      " 0   sector      4 non-null      object\n",
      " 1   id          4 non-null      object\n",
      " 2   Unnamed: 2  1 non-null      object\n",
      " 3   loc_1       4 non-null      object\n",
      " 4   loc_2       4 non-null      object\n",
      " 5   number      4 non-null      int64 \n",
      " 6   Unnamed: 6  1 non-null      object\n",
      " 7   letter_1    4 non-null      object\n",
      " 8   color       4 non-null      object\n",
      " 9   count_1     4 non-null      int64 \n",
      " 10  count_2     4 non-null      int64 \n",
      "dtypes: int64(3), object(8)\n",
      "memory usage: 484.0+ bytes\n"
     ]
    }
   ],
   "source": [
    "dfa1.info()"
   ]
  },
  {
   "cell_type": "markdown",
   "id": "bc4d9071-8827-4c54-ad40-d9fffcb3906d",
   "metadata": {},
   "source": [
    "## Keep only columns needed in cleaned template"
   ]
  },
  {
   "cell_type": "code",
   "execution_count": 5,
   "id": "33ccc5ee-1872-4556-81d8-f242316591d6",
   "metadata": {},
   "outputs": [],
   "source": [
    "# Filter to keep only columns with certain headers names\n",
    "dfa2 = dfa1[['sector', 'id', 'loc_1', 'loc_2', 'color']]"
   ]
  },
  {
   "cell_type": "code",
   "execution_count": 6,
   "id": "74db2633-f833-4c35-8931-aa3a246a077c",
   "metadata": {},
   "outputs": [
    {
     "data": {
      "text/html": [
       "<div>\n",
       "<style scoped>\n",
       "    .dataframe tbody tr th:only-of-type {\n",
       "        vertical-align: middle;\n",
       "    }\n",
       "\n",
       "    .dataframe tbody tr th {\n",
       "        vertical-align: top;\n",
       "    }\n",
       "\n",
       "    .dataframe thead th {\n",
       "        text-align: right;\n",
       "    }\n",
       "</style>\n",
       "<table border=\"1\" class=\"dataframe\">\n",
       "  <thead>\n",
       "    <tr style=\"text-align: right;\">\n",
       "      <th></th>\n",
       "      <th>sector</th>\n",
       "      <th>id</th>\n",
       "      <th>loc_1</th>\n",
       "      <th>loc_2</th>\n",
       "      <th>color</th>\n",
       "    </tr>\n",
       "  </thead>\n",
       "  <tbody>\n",
       "    <tr>\n",
       "      <th>0</th>\n",
       "      <td>hq</td>\n",
       "      <td>P1.1</td>\n",
       "      <td>north</td>\n",
       "      <td>up</td>\n",
       "      <td>red</td>\n",
       "    </tr>\n",
       "    <tr>\n",
       "      <th>1</th>\n",
       "      <td>hq</td>\n",
       "      <td>P1.2</td>\n",
       "      <td>south</td>\n",
       "      <td>down</td>\n",
       "      <td>orange</td>\n",
       "    </tr>\n",
       "    <tr>\n",
       "      <th>2</th>\n",
       "      <td>labor</td>\n",
       "      <td>P1.3</td>\n",
       "      <td>east</td>\n",
       "      <td>left</td>\n",
       "      <td>yellow</td>\n",
       "    </tr>\n",
       "    <tr>\n",
       "      <th>3</th>\n",
       "      <td>labor</td>\n",
       "      <td>P1.4</td>\n",
       "      <td>west</td>\n",
       "      <td>right</td>\n",
       "      <td>green</td>\n",
       "    </tr>\n",
       "  </tbody>\n",
       "</table>\n",
       "</div>"
      ],
      "text/plain": [
       "  sector    id  loc_1  loc_2   color\n",
       "0     hq  P1.1  north     up     red\n",
       "1     hq  P1.2  south   down  orange\n",
       "2  labor  P1.3   east   left  yellow\n",
       "3  labor  P1.4   west  right   green"
      ]
     },
     "execution_count": 6,
     "metadata": {},
     "output_type": "execute_result"
    }
   ],
   "source": [
    "dfa2"
   ]
  },
  {
   "cell_type": "code",
   "execution_count": 7,
   "id": "f4d96157-291e-44ea-a3a4-55fdf05f8ade",
   "metadata": {},
   "outputs": [],
   "source": [
    "# Filter to keep columns based on header string contents\n",
    "dfa3 = dfa1.filter(like = 'loc') # Can put any non-regex string contents here\n",
    "\n",
    "# OR\n",
    "\n",
    "# Useful to specify multiple conditions\n",
    "header_string_contents = dfa1.columns.str.contains('loc')\n",
    "dfa3 = dfa1.loc[:, header_string_contents] # Can add case = False to ignore caps"
   ]
  },
  {
   "cell_type": "code",
   "execution_count": 8,
   "id": "34262d33-6468-45f7-927d-1bad881244a0",
   "metadata": {},
   "outputs": [
    {
     "data": {
      "text/html": [
       "<div>\n",
       "<style scoped>\n",
       "    .dataframe tbody tr th:only-of-type {\n",
       "        vertical-align: middle;\n",
       "    }\n",
       "\n",
       "    .dataframe tbody tr th {\n",
       "        vertical-align: top;\n",
       "    }\n",
       "\n",
       "    .dataframe thead th {\n",
       "        text-align: right;\n",
       "    }\n",
       "</style>\n",
       "<table border=\"1\" class=\"dataframe\">\n",
       "  <thead>\n",
       "    <tr style=\"text-align: right;\">\n",
       "      <th></th>\n",
       "      <th>loc_1</th>\n",
       "      <th>loc_2</th>\n",
       "    </tr>\n",
       "  </thead>\n",
       "  <tbody>\n",
       "    <tr>\n",
       "      <th>0</th>\n",
       "      <td>north</td>\n",
       "      <td>up</td>\n",
       "    </tr>\n",
       "    <tr>\n",
       "      <th>1</th>\n",
       "      <td>south</td>\n",
       "      <td>down</td>\n",
       "    </tr>\n",
       "    <tr>\n",
       "      <th>2</th>\n",
       "      <td>east</td>\n",
       "      <td>left</td>\n",
       "    </tr>\n",
       "    <tr>\n",
       "      <th>3</th>\n",
       "      <td>west</td>\n",
       "      <td>right</td>\n",
       "    </tr>\n",
       "  </tbody>\n",
       "</table>\n",
       "</div>"
      ],
      "text/plain": [
       "   loc_1  loc_2\n",
       "0  north     up\n",
       "1  south   down\n",
       "2   east   left\n",
       "3   west  right"
      ]
     },
     "execution_count": 8,
     "metadata": {},
     "output_type": "execute_result"
    }
   ],
   "source": [
    "dfa3"
   ]
  },
  {
   "cell_type": "code",
   "execution_count": 9,
   "id": "83b12d75-6c5e-425b-b36e-67f589728ca8",
   "metadata": {},
   "outputs": [],
   "source": [
    "# Filter to keep columns based on header string contents WITH REGEX for more complexity\n",
    "dfa4 = dfa1.filter(regex = '.*_\\d+') # This regex keeps any header that is a string followed by underscore & number"
   ]
  },
  {
   "cell_type": "code",
   "execution_count": 10,
   "id": "10253d41-548f-48be-8317-42b6509552be",
   "metadata": {},
   "outputs": [
    {
     "data": {
      "text/html": [
       "<div>\n",
       "<style scoped>\n",
       "    .dataframe tbody tr th:only-of-type {\n",
       "        vertical-align: middle;\n",
       "    }\n",
       "\n",
       "    .dataframe tbody tr th {\n",
       "        vertical-align: top;\n",
       "    }\n",
       "\n",
       "    .dataframe thead th {\n",
       "        text-align: right;\n",
       "    }\n",
       "</style>\n",
       "<table border=\"1\" class=\"dataframe\">\n",
       "  <thead>\n",
       "    <tr style=\"text-align: right;\">\n",
       "      <th></th>\n",
       "      <th>loc_1</th>\n",
       "      <th>loc_2</th>\n",
       "      <th>letter_1</th>\n",
       "      <th>count_1</th>\n",
       "      <th>count_2</th>\n",
       "    </tr>\n",
       "  </thead>\n",
       "  <tbody>\n",
       "    <tr>\n",
       "      <th>0</th>\n",
       "      <td>north</td>\n",
       "      <td>up</td>\n",
       "      <td>a</td>\n",
       "      <td>24</td>\n",
       "      <td>156</td>\n",
       "    </tr>\n",
       "    <tr>\n",
       "      <th>1</th>\n",
       "      <td>south</td>\n",
       "      <td>down</td>\n",
       "      <td>b</td>\n",
       "      <td>32</td>\n",
       "      <td>213</td>\n",
       "    </tr>\n",
       "    <tr>\n",
       "      <th>2</th>\n",
       "      <td>east</td>\n",
       "      <td>left</td>\n",
       "      <td>c</td>\n",
       "      <td>52</td>\n",
       "      <td>783</td>\n",
       "    </tr>\n",
       "    <tr>\n",
       "      <th>3</th>\n",
       "      <td>west</td>\n",
       "      <td>right</td>\n",
       "      <td>d</td>\n",
       "      <td>30</td>\n",
       "      <td>298</td>\n",
       "    </tr>\n",
       "  </tbody>\n",
       "</table>\n",
       "</div>"
      ],
      "text/plain": [
       "   loc_1  loc_2 letter_1  count_1  count_2\n",
       "0  north     up        a       24      156\n",
       "1  south   down        b       32      213\n",
       "2   east   left        c       52      783\n",
       "3   west  right        d       30      298"
      ]
     },
     "execution_count": 10,
     "metadata": {},
     "output_type": "execute_result"
    }
   ],
   "source": [
    "dfa4"
   ]
  },
  {
   "cell_type": "code",
   "execution_count": 11,
   "id": "667c25d1-9c21-4fb9-9392-95411b4751cc",
   "metadata": {},
   "outputs": [],
   "source": [
    "# Filter columns by location in dataframe: exact column position\n",
    "dfa5 = dfa1.iloc[:, [0, 1, 8]]"
   ]
  },
  {
   "cell_type": "code",
   "execution_count": 12,
   "id": "1cf796ca-4da0-4d31-8562-d4292ae980e5",
   "metadata": {},
   "outputs": [
    {
     "data": {
      "text/html": [
       "<div>\n",
       "<style scoped>\n",
       "    .dataframe tbody tr th:only-of-type {\n",
       "        vertical-align: middle;\n",
       "    }\n",
       "\n",
       "    .dataframe tbody tr th {\n",
       "        vertical-align: top;\n",
       "    }\n",
       "\n",
       "    .dataframe thead th {\n",
       "        text-align: right;\n",
       "    }\n",
       "</style>\n",
       "<table border=\"1\" class=\"dataframe\">\n",
       "  <thead>\n",
       "    <tr style=\"text-align: right;\">\n",
       "      <th></th>\n",
       "      <th>sector</th>\n",
       "      <th>id</th>\n",
       "      <th>color</th>\n",
       "    </tr>\n",
       "  </thead>\n",
       "  <tbody>\n",
       "    <tr>\n",
       "      <th>0</th>\n",
       "      <td>hq</td>\n",
       "      <td>P1.1</td>\n",
       "      <td>red</td>\n",
       "    </tr>\n",
       "    <tr>\n",
       "      <th>1</th>\n",
       "      <td>hq</td>\n",
       "      <td>P1.2</td>\n",
       "      <td>orange</td>\n",
       "    </tr>\n",
       "    <tr>\n",
       "      <th>2</th>\n",
       "      <td>labor</td>\n",
       "      <td>P1.3</td>\n",
       "      <td>yellow</td>\n",
       "    </tr>\n",
       "    <tr>\n",
       "      <th>3</th>\n",
       "      <td>labor</td>\n",
       "      <td>P1.4</td>\n",
       "      <td>green</td>\n",
       "    </tr>\n",
       "  </tbody>\n",
       "</table>\n",
       "</div>"
      ],
      "text/plain": [
       "  sector    id   color\n",
       "0     hq  P1.1     red\n",
       "1     hq  P1.2  orange\n",
       "2  labor  P1.3  yellow\n",
       "3  labor  P1.4   green"
      ]
     },
     "execution_count": 12,
     "metadata": {},
     "output_type": "execute_result"
    }
   ],
   "source": [
    "dfa5"
   ]
  },
  {
   "cell_type": "code",
   "execution_count": 13,
   "id": "5a37c422-e680-4cd0-9c49-7e14e5befc4e",
   "metadata": {},
   "outputs": [],
   "source": [
    "# Filter columns by location in dataframe: relational column position\n",
    "reference_header = dfa1.columns.get_loc('loc_1')\n",
    "dfa6 = dfa1.iloc[:, reference_header : reference_header + 3] # If you want all to right, just do reference_header:"
   ]
  },
  {
   "cell_type": "code",
   "execution_count": 14,
   "id": "c890041b-4186-48ca-a05b-752f25729922",
   "metadata": {},
   "outputs": [
    {
     "data": {
      "text/html": [
       "<div>\n",
       "<style scoped>\n",
       "    .dataframe tbody tr th:only-of-type {\n",
       "        vertical-align: middle;\n",
       "    }\n",
       "\n",
       "    .dataframe tbody tr th {\n",
       "        vertical-align: top;\n",
       "    }\n",
       "\n",
       "    .dataframe thead th {\n",
       "        text-align: right;\n",
       "    }\n",
       "</style>\n",
       "<table border=\"1\" class=\"dataframe\">\n",
       "  <thead>\n",
       "    <tr style=\"text-align: right;\">\n",
       "      <th></th>\n",
       "      <th>loc_1</th>\n",
       "      <th>loc_2</th>\n",
       "      <th>number</th>\n",
       "    </tr>\n",
       "  </thead>\n",
       "  <tbody>\n",
       "    <tr>\n",
       "      <th>0</th>\n",
       "      <td>north</td>\n",
       "      <td>up</td>\n",
       "      <td>1</td>\n",
       "    </tr>\n",
       "    <tr>\n",
       "      <th>1</th>\n",
       "      <td>south</td>\n",
       "      <td>down</td>\n",
       "      <td>2</td>\n",
       "    </tr>\n",
       "    <tr>\n",
       "      <th>2</th>\n",
       "      <td>east</td>\n",
       "      <td>left</td>\n",
       "      <td>3</td>\n",
       "    </tr>\n",
       "    <tr>\n",
       "      <th>3</th>\n",
       "      <td>west</td>\n",
       "      <td>right</td>\n",
       "      <td>4</td>\n",
       "    </tr>\n",
       "  </tbody>\n",
       "</table>\n",
       "</div>"
      ],
      "text/plain": [
       "   loc_1  loc_2  number\n",
       "0  north     up       1\n",
       "1  south   down       2\n",
       "2   east   left       3\n",
       "3   west  right       4"
      ]
     },
     "execution_count": 14,
     "metadata": {},
     "output_type": "execute_result"
    }
   ],
   "source": [
    "dfa6"
   ]
  },
  {
   "cell_type": "code",
   "execution_count": 15,
   "id": "ecd1b376-0fb6-4105-8292-e6688d595c38",
   "metadata": {},
   "outputs": [],
   "source": [
    "# Filter columns by value type\n",
    "dfa7 = dfa1.select_dtypes(include = 'number')"
   ]
  },
  {
   "cell_type": "code",
   "execution_count": 16,
   "id": "256ce479-a55f-478a-ad0b-5129430fc2b2",
   "metadata": {},
   "outputs": [
    {
     "data": {
      "text/html": [
       "<div>\n",
       "<style scoped>\n",
       "    .dataframe tbody tr th:only-of-type {\n",
       "        vertical-align: middle;\n",
       "    }\n",
       "\n",
       "    .dataframe tbody tr th {\n",
       "        vertical-align: top;\n",
       "    }\n",
       "\n",
       "    .dataframe thead th {\n",
       "        text-align: right;\n",
       "    }\n",
       "</style>\n",
       "<table border=\"1\" class=\"dataframe\">\n",
       "  <thead>\n",
       "    <tr style=\"text-align: right;\">\n",
       "      <th></th>\n",
       "      <th>number</th>\n",
       "      <th>count_1</th>\n",
       "      <th>count_2</th>\n",
       "    </tr>\n",
       "  </thead>\n",
       "  <tbody>\n",
       "    <tr>\n",
       "      <th>0</th>\n",
       "      <td>1</td>\n",
       "      <td>24</td>\n",
       "      <td>156</td>\n",
       "    </tr>\n",
       "    <tr>\n",
       "      <th>1</th>\n",
       "      <td>2</td>\n",
       "      <td>32</td>\n",
       "      <td>213</td>\n",
       "    </tr>\n",
       "    <tr>\n",
       "      <th>2</th>\n",
       "      <td>3</td>\n",
       "      <td>52</td>\n",
       "      <td>783</td>\n",
       "    </tr>\n",
       "    <tr>\n",
       "      <th>3</th>\n",
       "      <td>4</td>\n",
       "      <td>30</td>\n",
       "      <td>298</td>\n",
       "    </tr>\n",
       "  </tbody>\n",
       "</table>\n",
       "</div>"
      ],
      "text/plain": [
       "   number  count_1  count_2\n",
       "0       1       24      156\n",
       "1       2       32      213\n",
       "2       3       52      783\n",
       "3       4       30      298"
      ]
     },
     "execution_count": 16,
     "metadata": {},
     "output_type": "execute_result"
    }
   ],
   "source": [
    "dfa7"
   ]
  },
  {
   "cell_type": "code",
   "execution_count": 17,
   "id": "e7bd6a6e-82c1-442b-b83a-9f8602d0a907",
   "metadata": {},
   "outputs": [],
   "source": [
    "# Filter columns by condition on value\n",
    "dfa7 = dfa1.select_dtypes(include = 'number') # Need to filter out non-numeric columns first\n",
    "dfa8 = dfa7.loc[:, (dfa7 < 100).any()] # Keep only columns with any values below 100- change column call to whatever filter is needed"
   ]
  },
  {
   "cell_type": "code",
   "execution_count": 18,
   "id": "fc9378cd-1249-4ef6-8556-2ef444116343",
   "metadata": {},
   "outputs": [
    {
     "data": {
      "text/html": [
       "<div>\n",
       "<style scoped>\n",
       "    .dataframe tbody tr th:only-of-type {\n",
       "        vertical-align: middle;\n",
       "    }\n",
       "\n",
       "    .dataframe tbody tr th {\n",
       "        vertical-align: top;\n",
       "    }\n",
       "\n",
       "    .dataframe thead th {\n",
       "        text-align: right;\n",
       "    }\n",
       "</style>\n",
       "<table border=\"1\" class=\"dataframe\">\n",
       "  <thead>\n",
       "    <tr style=\"text-align: right;\">\n",
       "      <th></th>\n",
       "      <th>number</th>\n",
       "      <th>count_1</th>\n",
       "    </tr>\n",
       "  </thead>\n",
       "  <tbody>\n",
       "    <tr>\n",
       "      <th>0</th>\n",
       "      <td>1</td>\n",
       "      <td>24</td>\n",
       "    </tr>\n",
       "    <tr>\n",
       "      <th>1</th>\n",
       "      <td>2</td>\n",
       "      <td>32</td>\n",
       "    </tr>\n",
       "    <tr>\n",
       "      <th>2</th>\n",
       "      <td>3</td>\n",
       "      <td>52</td>\n",
       "    </tr>\n",
       "    <tr>\n",
       "      <th>3</th>\n",
       "      <td>4</td>\n",
       "      <td>30</td>\n",
       "    </tr>\n",
       "  </tbody>\n",
       "</table>\n",
       "</div>"
      ],
      "text/plain": [
       "   number  count_1\n",
       "0       1       24\n",
       "1       2       32\n",
       "2       3       52\n",
       "3       4       30"
      ]
     },
     "execution_count": 18,
     "metadata": {},
     "output_type": "execute_result"
    }
   ],
   "source": [
    "dfa8"
   ]
  },
  {
   "cell_type": "code",
   "execution_count": 19,
   "id": "25c8d054-bb25-4d9a-944b-5349df0ae774",
   "metadata": {},
   "outputs": [],
   "source": [
    "# Remove columns with no header name\n",
    "dfa9 = dfa1.loc[:, ~dfa1.columns.str.contains('Unnamed')]"
   ]
  },
  {
   "cell_type": "code",
   "execution_count": 20,
   "id": "a039524d-e2b0-46ef-99c4-d080984f8619",
   "metadata": {},
   "outputs": [
    {
     "data": {
      "text/html": [
       "<div>\n",
       "<style scoped>\n",
       "    .dataframe tbody tr th:only-of-type {\n",
       "        vertical-align: middle;\n",
       "    }\n",
       "\n",
       "    .dataframe tbody tr th {\n",
       "        vertical-align: top;\n",
       "    }\n",
       "\n",
       "    .dataframe thead th {\n",
       "        text-align: right;\n",
       "    }\n",
       "</style>\n",
       "<table border=\"1\" class=\"dataframe\">\n",
       "  <thead>\n",
       "    <tr style=\"text-align: right;\">\n",
       "      <th></th>\n",
       "      <th>sector</th>\n",
       "      <th>id</th>\n",
       "      <th>loc_1</th>\n",
       "      <th>loc_2</th>\n",
       "      <th>number</th>\n",
       "      <th>letter_1</th>\n",
       "      <th>color</th>\n",
       "      <th>count_1</th>\n",
       "      <th>count_2</th>\n",
       "    </tr>\n",
       "  </thead>\n",
       "  <tbody>\n",
       "    <tr>\n",
       "      <th>0</th>\n",
       "      <td>hq</td>\n",
       "      <td>P1.1</td>\n",
       "      <td>north</td>\n",
       "      <td>up</td>\n",
       "      <td>1</td>\n",
       "      <td>a</td>\n",
       "      <td>red</td>\n",
       "      <td>24</td>\n",
       "      <td>156</td>\n",
       "    </tr>\n",
       "    <tr>\n",
       "      <th>1</th>\n",
       "      <td>hq</td>\n",
       "      <td>P1.2</td>\n",
       "      <td>south</td>\n",
       "      <td>down</td>\n",
       "      <td>2</td>\n",
       "      <td>b</td>\n",
       "      <td>orange</td>\n",
       "      <td>32</td>\n",
       "      <td>213</td>\n",
       "    </tr>\n",
       "    <tr>\n",
       "      <th>2</th>\n",
       "      <td>labor</td>\n",
       "      <td>P1.3</td>\n",
       "      <td>east</td>\n",
       "      <td>left</td>\n",
       "      <td>3</td>\n",
       "      <td>c</td>\n",
       "      <td>yellow</td>\n",
       "      <td>52</td>\n",
       "      <td>783</td>\n",
       "    </tr>\n",
       "    <tr>\n",
       "      <th>3</th>\n",
       "      <td>labor</td>\n",
       "      <td>P1.4</td>\n",
       "      <td>west</td>\n",
       "      <td>right</td>\n",
       "      <td>4</td>\n",
       "      <td>d</td>\n",
       "      <td>green</td>\n",
       "      <td>30</td>\n",
       "      <td>298</td>\n",
       "    </tr>\n",
       "  </tbody>\n",
       "</table>\n",
       "</div>"
      ],
      "text/plain": [
       "  sector    id  loc_1  loc_2  number letter_1   color  count_1  count_2\n",
       "0     hq  P1.1  north     up       1        a     red       24      156\n",
       "1     hq  P1.2  south   down       2        b  orange       32      213\n",
       "2  labor  P1.3   east   left       3        c  yellow       52      783\n",
       "3  labor  P1.4   west  right       4        d   green       30      298"
      ]
     },
     "execution_count": 20,
     "metadata": {},
     "output_type": "execute_result"
    }
   ],
   "source": [
    "dfa9"
   ]
  },
  {
   "cell_type": "code",
   "execution_count": 21,
   "id": "a0c26bef-0a24-4114-a922-fc869b7181cd",
   "metadata": {},
   "outputs": [],
   "source": [
    "# Filter based on a combination of the above without merging\n",
    "condition_1 = dfa1.filter(like = 'loc').columns.tolist() # Create list with columns matching this condition\n",
    "condition_2 = dfa1.select_dtypes(include = 'number').columns.tolist() # Create list with columns matching this condition\n",
    "conditions = list(set(condition_1 + condition_2)) # Combine conditional column lists\n",
    "dfa10 = dfa1[conditions] # Create new df with only columns matching above conditions"
   ]
  },
  {
   "cell_type": "code",
   "execution_count": 22,
   "id": "d8cb048d-633b-4fb3-a268-4a3845eb3c6a",
   "metadata": {},
   "outputs": [
    {
     "data": {
      "text/html": [
       "<div>\n",
       "<style scoped>\n",
       "    .dataframe tbody tr th:only-of-type {\n",
       "        vertical-align: middle;\n",
       "    }\n",
       "\n",
       "    .dataframe tbody tr th {\n",
       "        vertical-align: top;\n",
       "    }\n",
       "\n",
       "    .dataframe thead th {\n",
       "        text-align: right;\n",
       "    }\n",
       "</style>\n",
       "<table border=\"1\" class=\"dataframe\">\n",
       "  <thead>\n",
       "    <tr style=\"text-align: right;\">\n",
       "      <th></th>\n",
       "      <th>number</th>\n",
       "      <th>loc_2</th>\n",
       "      <th>loc_1</th>\n",
       "      <th>count_1</th>\n",
       "      <th>count_2</th>\n",
       "    </tr>\n",
       "  </thead>\n",
       "  <tbody>\n",
       "    <tr>\n",
       "      <th>0</th>\n",
       "      <td>1</td>\n",
       "      <td>up</td>\n",
       "      <td>north</td>\n",
       "      <td>24</td>\n",
       "      <td>156</td>\n",
       "    </tr>\n",
       "    <tr>\n",
       "      <th>1</th>\n",
       "      <td>2</td>\n",
       "      <td>down</td>\n",
       "      <td>south</td>\n",
       "      <td>32</td>\n",
       "      <td>213</td>\n",
       "    </tr>\n",
       "    <tr>\n",
       "      <th>2</th>\n",
       "      <td>3</td>\n",
       "      <td>left</td>\n",
       "      <td>east</td>\n",
       "      <td>52</td>\n",
       "      <td>783</td>\n",
       "    </tr>\n",
       "    <tr>\n",
       "      <th>3</th>\n",
       "      <td>4</td>\n",
       "      <td>right</td>\n",
       "      <td>west</td>\n",
       "      <td>30</td>\n",
       "      <td>298</td>\n",
       "    </tr>\n",
       "  </tbody>\n",
       "</table>\n",
       "</div>"
      ],
      "text/plain": [
       "   number  loc_2  loc_1  count_1  count_2\n",
       "0       1     up  north       24      156\n",
       "1       2   down  south       32      213\n",
       "2       3   left   east       52      783\n",
       "3       4  right   west       30      298"
      ]
     },
     "execution_count": 22,
     "metadata": {},
     "output_type": "execute_result"
    }
   ],
   "source": [
    "dfa10"
   ]
  },
  {
   "cell_type": "code",
   "execution_count": 23,
   "id": "7ec511e2-87d2-4a0b-9cb6-27fda5096504",
   "metadata": {},
   "outputs": [],
   "source": [
    "# Filter based on a combination of the above with merging\n",
    "# Useful to be able to parse numerical columns separately & add certain categorical columns back after\n",
    "\n",
    "# Create smaller df with numerical data & keep only columns that match certain conditions\n",
    "dfb1 = dfa1.select_dtypes(include = 'number')\n",
    "condition_1 = (dfb1 < 100).any()\n",
    "condition_2 = (dfb1 % 2 == 0).all()\n",
    "conditions = condition_1 & condition_2\n",
    "dfb2 = dfb1.loc[:, conditions]\n",
    "\n",
    "# Create smaller df with desired categorical columns\n",
    "dfa11 = dfa1[['sector', 'id']]\n",
    "\n",
    "# Merge the dfs back together- join merges by index\n",
    "dfa12 = dfa11.join(dfb2)"
   ]
  },
  {
   "cell_type": "code",
   "execution_count": 24,
   "id": "aaa164ac-484b-4fc5-9f41-d37a0dc39004",
   "metadata": {},
   "outputs": [
    {
     "data": {
      "text/html": [
       "<div>\n",
       "<style scoped>\n",
       "    .dataframe tbody tr th:only-of-type {\n",
       "        vertical-align: middle;\n",
       "    }\n",
       "\n",
       "    .dataframe tbody tr th {\n",
       "        vertical-align: top;\n",
       "    }\n",
       "\n",
       "    .dataframe thead th {\n",
       "        text-align: right;\n",
       "    }\n",
       "</style>\n",
       "<table border=\"1\" class=\"dataframe\">\n",
       "  <thead>\n",
       "    <tr style=\"text-align: right;\">\n",
       "      <th></th>\n",
       "      <th>sector</th>\n",
       "      <th>id</th>\n",
       "      <th>count_1</th>\n",
       "    </tr>\n",
       "  </thead>\n",
       "  <tbody>\n",
       "    <tr>\n",
       "      <th>0</th>\n",
       "      <td>hq</td>\n",
       "      <td>P1.1</td>\n",
       "      <td>24</td>\n",
       "    </tr>\n",
       "    <tr>\n",
       "      <th>1</th>\n",
       "      <td>hq</td>\n",
       "      <td>P1.2</td>\n",
       "      <td>32</td>\n",
       "    </tr>\n",
       "    <tr>\n",
       "      <th>2</th>\n",
       "      <td>labor</td>\n",
       "      <td>P1.3</td>\n",
       "      <td>52</td>\n",
       "    </tr>\n",
       "    <tr>\n",
       "      <th>3</th>\n",
       "      <td>labor</td>\n",
       "      <td>P1.4</td>\n",
       "      <td>30</td>\n",
       "    </tr>\n",
       "  </tbody>\n",
       "</table>\n",
       "</div>"
      ],
      "text/plain": [
       "  sector    id  count_1\n",
       "0     hq  P1.1       24\n",
       "1     hq  P1.2       32\n",
       "2  labor  P1.3       52\n",
       "3  labor  P1.4       30"
      ]
     },
     "execution_count": 24,
     "metadata": {},
     "output_type": "execute_result"
    }
   ],
   "source": [
    "dfa12"
   ]
  },
  {
   "cell_type": "markdown",
   "id": "484a0987-879c-467b-a609-c710b189ebc8",
   "metadata": {},
   "source": [
    "## Export data"
   ]
  },
  {
   "cell_type": "code",
   "execution_count": 25,
   "id": "a04bf9be-adeb-44e2-a751-29fa867e86e6",
   "metadata": {},
   "outputs": [],
   "source": [
    "dfa2.to_csv('cleaned_columns_header_names.csv', encoding = 'utf-8', index = False, header = True)\n",
    "\n",
    "dfa3.to_csv('cleaned_columns_header_string_contents.csv', encoding = 'utf-8', index = False, header = True)\n",
    "\n",
    "dfa4.to_csv('cleaned_columns_header_regex.csv', encoding = 'utf-8', index = False, header = True)\n",
    "\n",
    "dfa5.to_csv('cleaned_columns_exact_position.csv', encoding = 'utf-8', index = False, header = True)\n",
    "\n",
    "dfa6.to_csv('cleaned_columns_relational_position.csv', encoding = 'utf-8', index = False, header = True)\n",
    "\n",
    "dfa7.to_csv('cleaned_columns_value_type.csv', encoding = 'utf-8', index = False, header = True)\n",
    "\n",
    "dfa8.to_csv('cleaned_columns_value_condition.csv', encoding = 'utf-8', index = False, header = True)\n",
    "\n",
    "dfa9.to_csv('cleaned_columns_no_blank_headers.csv', encoding = 'utf-8', index = False, header = True)\n",
    "\n",
    "dfa10.to_csv('cleaned_columns_multiple_conditions.csv', encoding = 'utf-8', index = False, header = True)\n",
    "\n",
    "dfa12.to_csv('cleaned_columns_categorical_and_numerical_conditions.csv', encoding = 'utf-8', index = False, header = True)"
   ]
  }
 ],
 "metadata": {
  "kernelspec": {
   "display_name": "Python 3 (ipykernel)",
   "language": "python",
   "name": "python3"
  },
  "language_info": {
   "codemirror_mode": {
    "name": "ipython",
    "version": 3
   },
   "file_extension": ".py",
   "mimetype": "text/x-python",
   "name": "python",
   "nbconvert_exporter": "python",
   "pygments_lexer": "ipython3",
   "version": "3.11.7"
  }
 },
 "nbformat": 4,
 "nbformat_minor": 5
}
