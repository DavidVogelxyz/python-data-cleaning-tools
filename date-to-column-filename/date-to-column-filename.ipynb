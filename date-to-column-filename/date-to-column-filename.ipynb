{
 "cells": [
  {
   "cell_type": "markdown",
   "id": "bce3df97-c9f4-45d0-b662-ed3dc169d540",
   "metadata": {},
   "source": [
    "# Create date object, convert to column, & export with date filename"
   ]
  },
  {
   "cell_type": "markdown",
   "id": "bbd9639e-1577-4af2-a174-4af01e40e0c9",
   "metadata": {},
   "source": [
    "### Description"
   ]
  },
  {
   "cell_type": "markdown",
   "id": "eb1de377-421e-4770-ad58-58dce395070b",
   "metadata": {},
   "source": [
    "- Use when the date is defined in a single cell in an excel .csv template\n",
    "- Convert the date to a datetime datatype, make an object, then reference to assign to a column & filename\n",
    "- Useful when converting excel templates to combine together- each field needs the date data was recorded\n",
    "- Can incorporate into cleaning function when iterating through files in a directory"
   ]
  },
  {
   "cell_type": "markdown",
   "id": "79ab3648-0480-4ee8-af97-f7b3761efc64",
   "metadata": {},
   "source": [
    "## Import libraries"
   ]
  },
  {
   "cell_type": "code",
   "execution_count": 1,
   "id": "4a416332-5d16-4855-b422-11f0da7038fd",
   "metadata": {},
   "outputs": [],
   "source": [
    "import pandas as pd\n",
    "import numpy as np\n",
    "import os"
   ]
  },
  {
   "cell_type": "markdown",
   "id": "d9d0ee72-e0c6-452b-b2df-027f2f6336d0",
   "metadata": {},
   "source": [
    "## Import data"
   ]
  },
  {
   "cell_type": "code",
   "execution_count": 2,
   "id": "45c047f8-76d7-4faf-ad9a-7087f7b911a5",
   "metadata": {},
   "outputs": [],
   "source": [
    "# Import the datafile from the date_templates_raw subfolder\n",
    "dfa1 = pd.read_csv('date_templates_raw/date_template_raw_4Mar17.csv')"
   ]
  },
  {
   "cell_type": "code",
   "execution_count": 3,
   "id": "5ae46180-41f4-4fa3-b5a6-a2146aa92797",
   "metadata": {},
   "outputs": [
    {
     "data": {
      "text/html": [
       "<div>\n",
       "<style scoped>\n",
       "    .dataframe tbody tr th:only-of-type {\n",
       "        vertical-align: middle;\n",
       "    }\n",
       "\n",
       "    .dataframe tbody tr th {\n",
       "        vertical-align: top;\n",
       "    }\n",
       "\n",
       "    .dataframe thead th {\n",
       "        text-align: right;\n",
       "    }\n",
       "</style>\n",
       "<table border=\"1\" class=\"dataframe\">\n",
       "  <thead>\n",
       "    <tr style=\"text-align: right;\">\n",
       "      <th></th>\n",
       "      <th>date</th>\n",
       "      <th>Unnamed: 1</th>\n",
       "      <th>Unnamed: 2</th>\n",
       "    </tr>\n",
       "  </thead>\n",
       "  <tbody>\n",
       "    <tr>\n",
       "      <th>0</th>\n",
       "      <td>3/4/2017</td>\n",
       "      <td>NaN</td>\n",
       "      <td>NaN</td>\n",
       "    </tr>\n",
       "    <tr>\n",
       "      <th>1</th>\n",
       "      <td>number</td>\n",
       "      <td>letter</td>\n",
       "      <td>color</td>\n",
       "    </tr>\n",
       "    <tr>\n",
       "      <th>2</th>\n",
       "      <td>1</td>\n",
       "      <td>a</td>\n",
       "      <td>red</td>\n",
       "    </tr>\n",
       "    <tr>\n",
       "      <th>3</th>\n",
       "      <td>2</td>\n",
       "      <td>b</td>\n",
       "      <td>orange</td>\n",
       "    </tr>\n",
       "    <tr>\n",
       "      <th>4</th>\n",
       "      <td>3</td>\n",
       "      <td>c</td>\n",
       "      <td>yellow</td>\n",
       "    </tr>\n",
       "  </tbody>\n",
       "</table>\n",
       "</div>"
      ],
      "text/plain": [
       "       date Unnamed: 1 Unnamed: 2\n",
       "0  3/4/2017        NaN        NaN\n",
       "1    number     letter      color\n",
       "2         1          a        red\n",
       "3         2          b     orange\n",
       "4         3          c     yellow"
      ]
     },
     "execution_count": 3,
     "metadata": {},
     "output_type": "execute_result"
    }
   ],
   "source": [
    "dfa1"
   ]
  },
  {
   "cell_type": "markdown",
   "id": "d463c0b5-ee51-49ab-8e18-23315ab76fac",
   "metadata": {},
   "source": [
    "## Define date object"
   ]
  },
  {
   "cell_type": "code",
   "execution_count": 4,
   "id": "968ed414-aa16-4d1b-a78e-fa80b388273c",
   "metadata": {},
   "outputs": [
    {
     "name": "stdout",
     "output_type": "stream",
     "text": [
      "The date this template was filled is 2017-03-04 00:00:00\n"
     ]
    }
   ],
   "source": [
    "# Define the date object as the field under the 'date' header\n",
    "date = dfa1.loc[0, 'date']\n",
    "\n",
    "# Convert to datetime value type\n",
    "date = pd.to_datetime(date, format = '%m/%d/%Y')\n",
    "\n",
    "print('The date this template was filled is', date)"
   ]
  },
  {
   "cell_type": "markdown",
   "id": "db654c22-5923-47a7-a78f-f3931869e290",
   "metadata": {},
   "source": [
    "## Define headers & delete rows not needed"
   ]
  },
  {
   "cell_type": "code",
   "execution_count": 5,
   "id": "7760fc40-48bc-43cd-bad7-d9bf746dfff8",
   "metadata": {},
   "outputs": [],
   "source": [
    "# Define headers as index row 1\n",
    "dfa1.columns = dfa1.iloc[1] "
   ]
  },
  {
   "cell_type": "code",
   "execution_count": 6,
   "id": "145e575e-4006-4578-bc9a-093d607dc54c",
   "metadata": {},
   "outputs": [
    {
     "data": {
      "text/html": [
       "<div>\n",
       "<style scoped>\n",
       "    .dataframe tbody tr th:only-of-type {\n",
       "        vertical-align: middle;\n",
       "    }\n",
       "\n",
       "    .dataframe tbody tr th {\n",
       "        vertical-align: top;\n",
       "    }\n",
       "\n",
       "    .dataframe thead th {\n",
       "        text-align: right;\n",
       "    }\n",
       "</style>\n",
       "<table border=\"1\" class=\"dataframe\">\n",
       "  <thead>\n",
       "    <tr style=\"text-align: right;\">\n",
       "      <th>1</th>\n",
       "      <th>number</th>\n",
       "      <th>letter</th>\n",
       "      <th>color</th>\n",
       "    </tr>\n",
       "  </thead>\n",
       "  <tbody>\n",
       "    <tr>\n",
       "      <th>0</th>\n",
       "      <td>3/4/2017</td>\n",
       "      <td>NaN</td>\n",
       "      <td>NaN</td>\n",
       "    </tr>\n",
       "    <tr>\n",
       "      <th>1</th>\n",
       "      <td>number</td>\n",
       "      <td>letter</td>\n",
       "      <td>color</td>\n",
       "    </tr>\n",
       "    <tr>\n",
       "      <th>2</th>\n",
       "      <td>1</td>\n",
       "      <td>a</td>\n",
       "      <td>red</td>\n",
       "    </tr>\n",
       "    <tr>\n",
       "      <th>3</th>\n",
       "      <td>2</td>\n",
       "      <td>b</td>\n",
       "      <td>orange</td>\n",
       "    </tr>\n",
       "    <tr>\n",
       "      <th>4</th>\n",
       "      <td>3</td>\n",
       "      <td>c</td>\n",
       "      <td>yellow</td>\n",
       "    </tr>\n",
       "  </tbody>\n",
       "</table>\n",
       "</div>"
      ],
      "text/plain": [
       "1    number  letter   color\n",
       "0  3/4/2017     NaN     NaN\n",
       "1    number  letter   color\n",
       "2         1       a     red\n",
       "3         2       b  orange\n",
       "4         3       c  yellow"
      ]
     },
     "execution_count": 6,
     "metadata": {},
     "output_type": "execute_result"
    }
   ],
   "source": [
    "dfa1"
   ]
  },
  {
   "cell_type": "code",
   "execution_count": 7,
   "id": "9d501a06-61bc-4b9d-806b-a17bf3e03ef1",
   "metadata": {},
   "outputs": [],
   "source": [
    "# Delete top rows- not needed now that date object is defined\n",
    "dfa1 = dfa1[2:].reset_index(drop=True)"
   ]
  },
  {
   "cell_type": "code",
   "execution_count": 8,
   "id": "c7746c4f-1e05-4363-9b76-9923409e69bc",
   "metadata": {},
   "outputs": [
    {
     "data": {
      "text/html": [
       "<div>\n",
       "<style scoped>\n",
       "    .dataframe tbody tr th:only-of-type {\n",
       "        vertical-align: middle;\n",
       "    }\n",
       "\n",
       "    .dataframe tbody tr th {\n",
       "        vertical-align: top;\n",
       "    }\n",
       "\n",
       "    .dataframe thead th {\n",
       "        text-align: right;\n",
       "    }\n",
       "</style>\n",
       "<table border=\"1\" class=\"dataframe\">\n",
       "  <thead>\n",
       "    <tr style=\"text-align: right;\">\n",
       "      <th>1</th>\n",
       "      <th>number</th>\n",
       "      <th>letter</th>\n",
       "      <th>color</th>\n",
       "    </tr>\n",
       "  </thead>\n",
       "  <tbody>\n",
       "    <tr>\n",
       "      <th>0</th>\n",
       "      <td>1</td>\n",
       "      <td>a</td>\n",
       "      <td>red</td>\n",
       "    </tr>\n",
       "    <tr>\n",
       "      <th>1</th>\n",
       "      <td>2</td>\n",
       "      <td>b</td>\n",
       "      <td>orange</td>\n",
       "    </tr>\n",
       "    <tr>\n",
       "      <th>2</th>\n",
       "      <td>3</td>\n",
       "      <td>c</td>\n",
       "      <td>yellow</td>\n",
       "    </tr>\n",
       "  </tbody>\n",
       "</table>\n",
       "</div>"
      ],
      "text/plain": [
       "1 number letter   color\n",
       "0      1      a     red\n",
       "1      2      b  orange\n",
       "2      3      c  yellow"
      ]
     },
     "execution_count": 8,
     "metadata": {},
     "output_type": "execute_result"
    }
   ],
   "source": [
    "dfa1"
   ]
  },
  {
   "cell_type": "markdown",
   "id": "41aafc3b-773e-4737-9127-506f1c8e4e88",
   "metadata": {},
   "source": [
    "## Add date column"
   ]
  },
  {
   "cell_type": "code",
   "execution_count": 9,
   "id": "1ac27211-678e-4d5c-abf2-c0e899586af3",
   "metadata": {},
   "outputs": [
    {
     "name": "stdout",
     "output_type": "stream",
     "text": [
      "<class 'pandas.core.frame.DataFrame'>\n",
      "RangeIndex: 3 entries, 0 to 2\n",
      "Data columns (total 3 columns):\n",
      " #   Column  Non-Null Count  Dtype \n",
      "---  ------  --------------  ----- \n",
      " 0   number  3 non-null      object\n",
      " 1   letter  3 non-null      object\n",
      " 2   color   3 non-null      object\n",
      "dtypes: object(3)\n",
      "memory usage: 204.0+ bytes\n"
     ]
    }
   ],
   "source": [
    "dfa1.info()"
   ]
  },
  {
   "cell_type": "code",
   "execution_count": 10,
   "id": "cabf4fe9-ad34-499f-a960-130ee41e18d2",
   "metadata": {},
   "outputs": [],
   "source": [
    "# Create column for date, fill with date object\n",
    "dfa1['date'] = date\n",
    "\n",
    "# Move to position 0\n",
    "col = dfa1.pop('date')\n",
    "dfa1.insert(0, 'date', col)"
   ]
  },
  {
   "cell_type": "code",
   "execution_count": 11,
   "id": "ec844edd-49c8-4318-908d-b244b389acb1",
   "metadata": {},
   "outputs": [
    {
     "name": "stdout",
     "output_type": "stream",
     "text": [
      "<class 'pandas.core.frame.DataFrame'>\n",
      "RangeIndex: 3 entries, 0 to 2\n",
      "Data columns (total 4 columns):\n",
      " #   Column  Non-Null Count  Dtype         \n",
      "---  ------  --------------  -----         \n",
      " 0   date    3 non-null      datetime64[ns]\n",
      " 1   number  3 non-null      object        \n",
      " 2   letter  3 non-null      object        \n",
      " 3   color   3 non-null      object        \n",
      "dtypes: datetime64[ns](1), object(3)\n",
      "memory usage: 228.0+ bytes\n"
     ]
    }
   ],
   "source": [
    "dfa1.info()"
   ]
  },
  {
   "cell_type": "code",
   "execution_count": 12,
   "id": "44c1381e-9e60-4a3e-b636-ea48b6918f32",
   "metadata": {},
   "outputs": [
    {
     "data": {
      "text/html": [
       "<div>\n",
       "<style scoped>\n",
       "    .dataframe tbody tr th:only-of-type {\n",
       "        vertical-align: middle;\n",
       "    }\n",
       "\n",
       "    .dataframe tbody tr th {\n",
       "        vertical-align: top;\n",
       "    }\n",
       "\n",
       "    .dataframe thead th {\n",
       "        text-align: right;\n",
       "    }\n",
       "</style>\n",
       "<table border=\"1\" class=\"dataframe\">\n",
       "  <thead>\n",
       "    <tr style=\"text-align: right;\">\n",
       "      <th>1</th>\n",
       "      <th>date</th>\n",
       "      <th>number</th>\n",
       "      <th>letter</th>\n",
       "      <th>color</th>\n",
       "    </tr>\n",
       "  </thead>\n",
       "  <tbody>\n",
       "    <tr>\n",
       "      <th>0</th>\n",
       "      <td>2017-03-04</td>\n",
       "      <td>1</td>\n",
       "      <td>a</td>\n",
       "      <td>red</td>\n",
       "    </tr>\n",
       "    <tr>\n",
       "      <th>1</th>\n",
       "      <td>2017-03-04</td>\n",
       "      <td>2</td>\n",
       "      <td>b</td>\n",
       "      <td>orange</td>\n",
       "    </tr>\n",
       "    <tr>\n",
       "      <th>2</th>\n",
       "      <td>2017-03-04</td>\n",
       "      <td>3</td>\n",
       "      <td>c</td>\n",
       "      <td>yellow</td>\n",
       "    </tr>\n",
       "  </tbody>\n",
       "</table>\n",
       "</div>"
      ],
      "text/plain": [
       "1       date number letter   color\n",
       "0 2017-03-04      1      a     red\n",
       "1 2017-03-04      2      b  orange\n",
       "2 2017-03-04      3      c  yellow"
      ]
     },
     "execution_count": 12,
     "metadata": {},
     "output_type": "execute_result"
    }
   ],
   "source": [
    "dfa1"
   ]
  },
  {
   "cell_type": "markdown",
   "id": "dd5ab176-7d4a-45d1-b851-2d48090648e7",
   "metadata": {},
   "source": [
    "## Export data"
   ]
  },
  {
   "cell_type": "code",
   "execution_count": 13,
   "id": "ca9d10ab-4043-4500-9060-efe8f8777d35",
   "metadata": {},
   "outputs": [],
   "source": [
    "# Format date as a string without time to use in filename\n",
    "date_string = date.strftime(\"%Y-%m-%d\")\n",
    "\n",
    "# Create the new file name with updated formatting for consistency in cleaned files\n",
    "file = f'cleaned_date_template_{date_string}.csv'\n",
    "\n",
    "# Save the file in the date_templates_clean subfolder\n",
    "dfa1.to_csv(os.path.join('date_templates_clean', file), encoding = 'utf-8', index = False, header = True)"
   ]
  }
 ],
 "metadata": {
  "kernelspec": {
   "display_name": "Python 3 (ipykernel)",
   "language": "python",
   "name": "python3"
  },
  "language_info": {
   "codemirror_mode": {
    "name": "ipython",
    "version": 3
   },
   "file_extension": ".py",
   "mimetype": "text/x-python",
   "name": "python",
   "nbconvert_exporter": "python",
   "pygments_lexer": "ipython3",
   "version": "3.11.7"
  }
 },
 "nbformat": 4,
 "nbformat_minor": 5
}
